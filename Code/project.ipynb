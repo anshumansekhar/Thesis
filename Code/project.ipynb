{
 "cells": [
  {
   "cell_type": "code",
   "execution_count": 1,
   "metadata": {},
   "outputs": [],
   "source": [
    "import pandas as pd\n",
    "import numpy as np\n",
    "import matplotlib.pyplot as plt\n",
    "from sklearn.decomposition import PCA\n",
    "from sklearn.cluster import AgglomerativeClustering\n",
    "from sklearn.preprocessing import StandardScaler, normalize\n",
    "from sklearn.metrics import silhouette_score\n",
    "import scipy.cluster.hierarchy as shc"
   ]
  },
  {
   "cell_type": "code",
   "execution_count": 2,
   "metadata": {},
   "outputs": [
    {
     "data": {
      "text/html": [
       "<div>\n",
       "<style scoped>\n",
       "    .dataframe tbody tr th:only-of-type {\n",
       "        vertical-align: middle;\n",
       "    }\n",
       "\n",
       "    .dataframe tbody tr th {\n",
       "        vertical-align: top;\n",
       "    }\n",
       "\n",
       "    .dataframe thead th {\n",
       "        text-align: right;\n",
       "    }\n",
       "</style>\n",
       "<table border=\"1\" class=\"dataframe\">\n",
       "  <thead>\n",
       "    <tr style=\"text-align: right;\">\n",
       "      <th></th>\n",
       "      <th>Language</th>\n",
       "      <th>Type</th>\n",
       "      <th>Domain</th>\n",
       "      <th>Visibility</th>\n",
       "    </tr>\n",
       "  </thead>\n",
       "  <tbody>\n",
       "    <tr>\n",
       "      <th>0</th>\n",
       "      <td>Java</td>\n",
       "      <td>JSP</td>\n",
       "      <td>Educational</td>\n",
       "      <td>UI</td>\n",
       "    </tr>\n",
       "    <tr>\n",
       "      <th>1</th>\n",
       "      <td>Java</td>\n",
       "      <td>JSP</td>\n",
       "      <td>Reservation</td>\n",
       "      <td>UI</td>\n",
       "    </tr>\n",
       "    <tr>\n",
       "      <th>2</th>\n",
       "      <td>Java</td>\n",
       "      <td>JSP</td>\n",
       "      <td>Booking</td>\n",
       "      <td>UI</td>\n",
       "    </tr>\n",
       "    <tr>\n",
       "      <th>3</th>\n",
       "      <td>JavaScript</td>\n",
       "      <td>React</td>\n",
       "      <td>Booking</td>\n",
       "      <td>UI</td>\n",
       "    </tr>\n",
       "    <tr>\n",
       "      <th>4</th>\n",
       "      <td>Java</td>\n",
       "      <td>JSP</td>\n",
       "      <td>Hotel Booking</td>\n",
       "      <td>UI</td>\n",
       "    </tr>\n",
       "  </tbody>\n",
       "</table>\n",
       "</div>"
      ],
      "text/plain": [
       "     Language   Type         Domain Visibility\n",
       "0        Java    JSP    Educational         UI\n",
       "1        Java    JSP    Reservation         UI\n",
       "2        Java    JSP        Booking         UI\n",
       "3  JavaScript  React        Booking         UI\n",
       "4        Java    JSP  Hotel Booking         UI"
      ]
     },
     "execution_count": 2,
     "metadata": {},
     "output_type": "execute_result"
    }
   ],
   "source": [
    "data = pd.read_csv('components.csv')\n",
    "min_data=data.drop(['id','Component Name','Functionality'],axis=1)\n",
    "min_data.fillna(method='ffill',inplace=True)\n",
    "min_data.head()"
   ]
  },
  {
   "cell_type": "code",
   "execution_count": 3,
   "metadata": {},
   "outputs": [],
   "source": [
    "unique_words=(min_data['Language'].append(min_data['Type'].append(min_data['Domain'].append(min_data['Visibility'])))).unique()"
   ]
  },
  {
   "cell_type": "code",
   "execution_count": 4,
   "metadata": {},
   "outputs": [
    {
     "name": "stdout",
     "output_type": "stream",
     "text": [
      "['Java' 'JavaScript' 'JSP' 'React' 'Educational' 'Reservation' 'Booking'\n",
      " 'Hotel Booking' 'Finance' 'Train Booking' 'Flight Booking' 'Payment'\n",
      " 'Library Management' 'UI' 'Function']\n"
     ]
    }
   ],
   "source": [
    "print(unique_words)"
   ]
  },
  {
   "cell_type": "code",
   "execution_count": 5,
   "metadata": {},
   "outputs": [
    {
     "name": "stdout",
     "output_type": "stream",
     "text": [
      "{'Java': 0, 'JavaScript': 1, 'JSP': 2, 'React': 3, 'Educational': 4, 'Reservation': 5, 'Booking': 6, 'Hotel Booking': 7, 'Finance': 8, 'Train Booking': 9, 'Flight Booking': 10, 'Payment': 11, 'Library Management': 12, 'UI': 13, 'Function': 14}\n"
     ]
    }
   ],
   "source": [
    "bag_of_words={}\n",
    "for i in range(len(unique_words)):\n",
    "    bag_of_words[unique_words[i]]=i\n",
    "\n",
    "print(bag_of_words)"
   ]
  },
  {
   "cell_type": "code",
   "execution_count": 7,
   "metadata": {},
   "outputs": [
    {
     "data": {
      "text/html": [
       "<div>\n",
       "<style scoped>\n",
       "    .dataframe tbody tr th:only-of-type {\n",
       "        vertical-align: middle;\n",
       "    }\n",
       "\n",
       "    .dataframe tbody tr th {\n",
       "        vertical-align: top;\n",
       "    }\n",
       "\n",
       "    .dataframe thead th {\n",
       "        text-align: right;\n",
       "    }\n",
       "</style>\n",
       "<table border=\"1\" class=\"dataframe\">\n",
       "  <thead>\n",
       "    <tr style=\"text-align: right;\">\n",
       "      <th></th>\n",
       "      <th>Language</th>\n",
       "      <th>Type</th>\n",
       "      <th>Domain</th>\n",
       "      <th>Visibility</th>\n",
       "    </tr>\n",
       "  </thead>\n",
       "  <tbody>\n",
       "    <tr>\n",
       "      <th>0</th>\n",
       "      <td>0</td>\n",
       "      <td>2</td>\n",
       "      <td>4</td>\n",
       "      <td>13</td>\n",
       "    </tr>\n",
       "    <tr>\n",
       "      <th>1</th>\n",
       "      <td>0</td>\n",
       "      <td>2</td>\n",
       "      <td>5</td>\n",
       "      <td>13</td>\n",
       "    </tr>\n",
       "    <tr>\n",
       "      <th>2</th>\n",
       "      <td>0</td>\n",
       "      <td>2</td>\n",
       "      <td>6</td>\n",
       "      <td>13</td>\n",
       "    </tr>\n",
       "    <tr>\n",
       "      <th>3</th>\n",
       "      <td>1</td>\n",
       "      <td>3</td>\n",
       "      <td>6</td>\n",
       "      <td>13</td>\n",
       "    </tr>\n",
       "    <tr>\n",
       "      <th>4</th>\n",
       "      <td>0</td>\n",
       "      <td>2</td>\n",
       "      <td>7</td>\n",
       "      <td>13</td>\n",
       "    </tr>\n",
       "  </tbody>\n",
       "</table>\n",
       "</div>"
      ],
      "text/plain": [
       "   Language  Type  Domain  Visibility\n",
       "0         0     2       4          13\n",
       "1         0     2       5          13\n",
       "2         0     2       6          13\n",
       "3         1     3       6          13\n",
       "4         0     2       7          13"
      ]
     },
     "execution_count": 7,
     "metadata": {},
     "output_type": "execute_result"
    }
   ],
   "source": [
    "for i in range(len(unique_words)):\n",
    "    min_data=min_data.replace(unique_words[i],i)\n",
    "min_data.head()"
   ]
  },
  {
   "cell_type": "code",
   "execution_count": 8,
   "metadata": {},
   "outputs": [
    {
     "data": {
      "text/plain": [
       "array([[ 0,  2,  4, 13],\n",
       "       [ 0,  2,  5, 13],\n",
       "       [ 0,  2,  6, 13],\n",
       "       [ 1,  3,  6, 13],\n",
       "       [ 0,  2,  7, 13],\n",
       "       [ 1,  3,  7, 13],\n",
       "       [ 0,  2,  4, 13],\n",
       "       [ 1,  3,  4, 13],\n",
       "       [ 0,  0,  8, 14],\n",
       "       [ 1,  1,  8, 14],\n",
       "       [ 0,  0,  9, 14],\n",
       "       [ 0,  0,  7, 14],\n",
       "       [ 0,  0, 10, 14],\n",
       "       [ 0,  2, 11, 13],\n",
       "       [ 1,  3, 11, 13],\n",
       "       [ 0,  0, 11, 14],\n",
       "       [ 1,  1, 11, 14],\n",
       "       [ 0,  2,  9, 13],\n",
       "       [ 0,  2,  7, 13],\n",
       "       [ 1,  3,  9, 13],\n",
       "       [ 1,  3,  7, 13],\n",
       "       [ 1,  3, 12, 13],\n",
       "       [ 0,  2, 12, 13],\n",
       "       [ 0,  2, 12, 13],\n",
       "       [ 1,  3, 12, 13],\n",
       "       [ 0,  2,  9, 13],\n",
       "       [ 1,  3,  9, 13],\n",
       "       [ 0,  2,  7, 13],\n",
       "       [ 1,  3,  7, 13],\n",
       "       [ 0,  2,  6, 13],\n",
       "       [ 1,  3,  6, 13],\n",
       "       [ 1,  3, 12, 13],\n",
       "       [ 0,  2, 12, 13],\n",
       "       [ 0,  2, 10, 13],\n",
       "       [ 1,  3, 10, 13],\n",
       "       [ 0,  2, 10, 13],\n",
       "       [ 1,  3, 10, 13],\n",
       "       [ 1,  1,  7, 14],\n",
       "       [ 1,  1,  9, 14],\n",
       "       [ 1,  1, 10, 14]])"
      ]
     },
     "execution_count": 8,
     "metadata": {},
     "output_type": "execute_result"
    }
   ],
   "source": [
    "X_val=min_data.iloc[:, [0, 1, 2,3]].values\n",
    "X_val"
   ]
  },
  {
   "cell_type": "code",
   "execution_count": 9,
   "metadata": {},
   "outputs": [],
   "source": [
    "scaler = StandardScaler()\n",
    "X_scaled = scaler.fit_transform(X_val)\n",
    "\n",
    "X_normalized = normalize(X_scaled)\n",
    "  \n",
    "X_normalized = pd.DataFrame(X_normalized)"
   ]
  },
  {
   "cell_type": "code",
   "execution_count": 32,
   "metadata": {},
   "outputs": [
    {
     "data": {
      "text/html": [
       "<div>\n",
       "<style scoped>\n",
       "    .dataframe tbody tr th:only-of-type {\n",
       "        vertical-align: middle;\n",
       "    }\n",
       "\n",
       "    .dataframe tbody tr th {\n",
       "        vertical-align: top;\n",
       "    }\n",
       "\n",
       "    .dataframe thead th {\n",
       "        text-align: right;\n",
       "    }\n",
       "</style>\n",
       "<table border=\"1\" class=\"dataframe\">\n",
       "  <thead>\n",
       "    <tr style=\"text-align: right;\">\n",
       "      <th></th>\n",
       "      <th>P1</th>\n",
       "      <th>P2</th>\n",
       "    </tr>\n",
       "  </thead>\n",
       "  <tbody>\n",
       "    <tr>\n",
       "      <th>0</th>\n",
       "      <td>-0.342548</td>\n",
       "      <td>-0.607483</td>\n",
       "    </tr>\n",
       "    <tr>\n",
       "      <th>1</th>\n",
       "      <td>-0.385386</td>\n",
       "      <td>-0.658881</td>\n",
       "    </tr>\n",
       "    <tr>\n",
       "      <th>2</th>\n",
       "      <td>-0.438697</td>\n",
       "      <td>-0.715177</td>\n",
       "    </tr>\n",
       "    <tr>\n",
       "      <th>3</th>\n",
       "      <td>0.746514</td>\n",
       "      <td>-0.235668</td>\n",
       "    </tr>\n",
       "    <tr>\n",
       "      <th>4</th>\n",
       "      <td>-0.496620</td>\n",
       "      <td>-0.758060</td>\n",
       "    </tr>\n",
       "    <tr>\n",
       "      <th>5</th>\n",
       "      <td>0.853360</td>\n",
       "      <td>-0.185669</td>\n",
       "    </tr>\n",
       "    <tr>\n",
       "      <th>6</th>\n",
       "      <td>-0.342548</td>\n",
       "      <td>-0.607483</td>\n",
       "    </tr>\n",
       "    <tr>\n",
       "      <th>7</th>\n",
       "      <td>0.545947</td>\n",
       "      <td>-0.281326</td>\n",
       "    </tr>\n",
       "    <tr>\n",
       "      <th>8</th>\n",
       "      <td>-0.872836</td>\n",
       "      <td>0.601530</td>\n",
       "    </tr>\n",
       "    <tr>\n",
       "      <th>9</th>\n",
       "      <td>-0.143749</td>\n",
       "      <td>0.992445</td>\n",
       "    </tr>\n",
       "    <tr>\n",
       "      <th>10</th>\n",
       "      <td>-0.863970</td>\n",
       "      <td>0.657286</td>\n",
       "    </tr>\n",
       "    <tr>\n",
       "      <th>11</th>\n",
       "      <td>-0.863728</td>\n",
       "      <td>0.536787</td>\n",
       "    </tr>\n",
       "    <tr>\n",
       "      <th>12</th>\n",
       "      <td>-0.837523</td>\n",
       "      <td>0.700404</td>\n",
       "    </tr>\n",
       "    <tr>\n",
       "      <th>13</th>\n",
       "      <td>-0.354294</td>\n",
       "      <td>-0.224006</td>\n",
       "    </tr>\n",
       "    <tr>\n",
       "      <th>14</th>\n",
       "      <td>0.837462</td>\n",
       "      <td>0.169421</td>\n",
       "    </tr>\n",
       "    <tr>\n",
       "      <th>15</th>\n",
       "      <td>-0.797007</td>\n",
       "      <td>0.729674</td>\n",
       "    </tr>\n",
       "    <tr>\n",
       "      <th>16</th>\n",
       "      <td>-0.099370</td>\n",
       "      <td>1.107704</td>\n",
       "    </tr>\n",
       "    <tr>\n",
       "      <th>17</th>\n",
       "      <td>-0.513747</td>\n",
       "      <td>-0.610935</td>\n",
       "    </tr>\n",
       "    <tr>\n",
       "      <th>18</th>\n",
       "      <td>-0.496620</td>\n",
       "      <td>-0.758060</td>\n",
       "    </tr>\n",
       "    <tr>\n",
       "      <th>19</th>\n",
       "      <td>0.956481</td>\n",
       "      <td>-0.014158</td>\n",
       "    </tr>\n",
       "    <tr>\n",
       "      <th>20</th>\n",
       "      <td>0.853360</td>\n",
       "      <td>-0.185669</td>\n",
       "    </tr>\n",
       "    <tr>\n",
       "      <th>21</th>\n",
       "      <td>0.747874</td>\n",
       "      <td>0.235023</td>\n",
       "    </tr>\n",
       "    <tr>\n",
       "      <th>22</th>\n",
       "      <td>-0.283514</td>\n",
       "      <td>-0.081681</td>\n",
       "    </tr>\n",
       "    <tr>\n",
       "      <th>23</th>\n",
       "      <td>-0.283514</td>\n",
       "      <td>-0.081681</td>\n",
       "    </tr>\n",
       "    <tr>\n",
       "      <th>24</th>\n",
       "      <td>0.747874</td>\n",
       "      <td>0.235023</td>\n",
       "    </tr>\n",
       "    <tr>\n",
       "      <th>25</th>\n",
       "      <td>-0.513747</td>\n",
       "      <td>-0.610935</td>\n",
       "    </tr>\n",
       "    <tr>\n",
       "      <th>26</th>\n",
       "      <td>0.956481</td>\n",
       "      <td>-0.014158</td>\n",
       "    </tr>\n",
       "    <tr>\n",
       "      <th>27</th>\n",
       "      <td>-0.496620</td>\n",
       "      <td>-0.758060</td>\n",
       "    </tr>\n",
       "    <tr>\n",
       "      <th>28</th>\n",
       "      <td>0.853360</td>\n",
       "      <td>-0.185669</td>\n",
       "    </tr>\n",
       "    <tr>\n",
       "      <th>29</th>\n",
       "      <td>-0.438697</td>\n",
       "      <td>-0.715177</td>\n",
       "    </tr>\n",
       "    <tr>\n",
       "      <th>30</th>\n",
       "      <td>0.746514</td>\n",
       "      <td>-0.235668</td>\n",
       "    </tr>\n",
       "    <tr>\n",
       "      <th>31</th>\n",
       "      <td>0.747874</td>\n",
       "      <td>0.235023</td>\n",
       "    </tr>\n",
       "    <tr>\n",
       "      <th>32</th>\n",
       "      <td>-0.283514</td>\n",
       "      <td>-0.081681</td>\n",
       "    </tr>\n",
       "    <tr>\n",
       "      <th>33</th>\n",
       "      <td>-0.439275</td>\n",
       "      <td>-0.411079</td>\n",
       "    </tr>\n",
       "    <tr>\n",
       "      <th>34</th>\n",
       "      <td>0.916486</td>\n",
       "      <td>0.084473</td>\n",
       "    </tr>\n",
       "    <tr>\n",
       "      <th>35</th>\n",
       "      <td>-0.439275</td>\n",
       "      <td>-0.411079</td>\n",
       "    </tr>\n",
       "    <tr>\n",
       "      <th>36</th>\n",
       "      <td>0.916486</td>\n",
       "      <td>0.084473</td>\n",
       "    </tr>\n",
       "    <tr>\n",
       "      <th>37</th>\n",
       "      <td>-0.152152</td>\n",
       "      <td>0.896060</td>\n",
       "    </tr>\n",
       "    <tr>\n",
       "      <th>38</th>\n",
       "      <td>-0.131263</td>\n",
       "      <td>1.063170</td>\n",
       "    </tr>\n",
       "    <tr>\n",
       "      <th>39</th>\n",
       "      <td>-0.115856</td>\n",
       "      <td>1.100949</td>\n",
       "    </tr>\n",
       "  </tbody>\n",
       "</table>\n",
       "</div>"
      ],
      "text/plain": [
       "          P1        P2\n",
       "0  -0.342548 -0.607483\n",
       "1  -0.385386 -0.658881\n",
       "2  -0.438697 -0.715177\n",
       "3   0.746514 -0.235668\n",
       "4  -0.496620 -0.758060\n",
       "5   0.853360 -0.185669\n",
       "6  -0.342548 -0.607483\n",
       "7   0.545947 -0.281326\n",
       "8  -0.872836  0.601530\n",
       "9  -0.143749  0.992445\n",
       "10 -0.863970  0.657286\n",
       "11 -0.863728  0.536787\n",
       "12 -0.837523  0.700404\n",
       "13 -0.354294 -0.224006\n",
       "14  0.837462  0.169421\n",
       "15 -0.797007  0.729674\n",
       "16 -0.099370  1.107704\n",
       "17 -0.513747 -0.610935\n",
       "18 -0.496620 -0.758060\n",
       "19  0.956481 -0.014158\n",
       "20  0.853360 -0.185669\n",
       "21  0.747874  0.235023\n",
       "22 -0.283514 -0.081681\n",
       "23 -0.283514 -0.081681\n",
       "24  0.747874  0.235023\n",
       "25 -0.513747 -0.610935\n",
       "26  0.956481 -0.014158\n",
       "27 -0.496620 -0.758060\n",
       "28  0.853360 -0.185669\n",
       "29 -0.438697 -0.715177\n",
       "30  0.746514 -0.235668\n",
       "31  0.747874  0.235023\n",
       "32 -0.283514 -0.081681\n",
       "33 -0.439275 -0.411079\n",
       "34  0.916486  0.084473\n",
       "35 -0.439275 -0.411079\n",
       "36  0.916486  0.084473\n",
       "37 -0.152152  0.896060\n",
       "38 -0.131263  1.063170\n",
       "39 -0.115856  1.100949"
      ]
     },
     "execution_count": 32,
     "metadata": {},
     "output_type": "execute_result"
    }
   ],
   "source": [
    "pca = PCA(n_components = 2)\n",
    "X_principal = pca.fit_transform(X_normalized)\n",
    "X_principal = pd.DataFrame(X_principal)\n",
    "X_principal.columns = ['P1', 'P2']\n",
    "X_principal"
   ]
  },
  {
   "cell_type": "code",
   "execution_count": 11,
   "metadata": {},
   "outputs": [
    {
     "data": {
      "text/plain": [
       "<matplotlib.lines.Line2D at 0x7fee19b52070>"
      ]
     },
     "execution_count": 11,
     "metadata": {},
     "output_type": "execute_result"
    },
    {
     "data": {
      "image/png": "[encoded data removed]",
      "text/plain": [
       "<Figure size 720x720 with 1 Axes>"
      ]
     },
     "metadata": {
      "needs_background": "light"
     },
     "output_type": "display_data"
    }
   ],
   "source": [
    "plt.figure(figsize =(10, 10))\n",
    "plt.title('Visualising the output')\n",
    "dendrogram = shc.dendrogram((shc.linkage(X_principal, method ='ward')))\n",
    "plt.axhline(y=11, color='r', linestyle='--')"
   ]
  },
  {
   "cell_type": "code",
   "execution_count": 27,
   "metadata": {},
   "outputs": [
    {
     "data": {
      "image/png": "[encoded data removed]",
      "text/plain": [
       "<Figure size 432x432 with 1 Axes>"
      ]
     },
     "metadata": {
      "needs_background": "light"
     },
     "output_type": "display_data"
    }
   ],
   "source": [
    "ac2 = AgglomerativeClustering(n_clusters = 2)\n",
    "\n",
    "plt.figure(figsize =(6, 6))\n",
    "plt.scatter(X_principal['P1'], X_principal['P2'], \n",
    "           c = ac2.fit_predict(X_principal), cmap ='rainbow')\n",
    "plt.show()"
   ]
  },
  {
   "cell_type": "code",
   "execution_count": 28,
   "metadata": {},
   "outputs": [
    {
     "data": {
      "image/png": "[encoded data removed]",
      "text/plain": [
       "<Figure size 432x432 with 1 Axes>"
      ]
     },
     "metadata": {
      "needs_background": "light"
     },
     "output_type": "display_data"
    }
   ],
   "source": [
    "ac3 = AgglomerativeClustering(n_clusters = 3)\n",
    "\n",
    "plt.figure(figsize =(6, 6))\n",
    "plt.scatter(X_principal['P1'], X_principal['P2'], \n",
    "           c = ac3.fit_predict(X_principal), cmap ='rainbow')\n",
    "plt.show()"
   ]
  },
  {
   "cell_type": "code",
   "execution_count": 60,
   "metadata": {},
   "outputs": [
    {
     "data": {
      "image/png": "[encoded data removed]",
      "text/plain": [
       "<Figure size 576x576 with 1 Axes>"
      ]
     },
     "metadata": {
      "needs_background": "light"
     },
     "output_type": "display_data"
    }
   ],
   "source": [
    "ac4 = AgglomerativeClustering(n_clusters = 4)\n",
    "\n",
    "plt.figure(figsize =(8, 8))\n",
    "plt.scatter(X_principal['P1'], X_principal['P2'], \n",
    "           c = ac4.fit_predict(X_principal), cmap ='rainbow')\n",
    "\n",
    "plt.show()"
   ]
  },
  {
   "cell_type": "code",
   "execution_count": 62,
   "metadata": {},
   "outputs": [
    {
     "data": {
      "image/png": "[encoded data removed]",
      "text/plain": [
       "<Figure size 1080x1080 with 1 Axes>"
      ]
     },
     "metadata": {
      "needs_background": "light"
     },
     "output_type": "display_data"
    }
   ],
   "source": [
    "plt.figure(figsize =(15, 15))\n",
    "plt.scatter(X_principal['P1'], X_principal['P2'], \n",
    "           c = ac4.fit_predict(X_principal), cmap ='rainbow',alpha=0.1)\n",
    "for i in range(40):\n",
    "    plt.text(X_principal.iloc[i]['P1'],X_principal.iloc[i]['P2'], str(i))\n",
    "plt.show()"
   ]
  },
  {
   "cell_type": "code",
   "execution_count": 59,
   "metadata": {},
   "outputs": [
    {
     "data": {
      "text/plain": [
       "28"
      ]
     },
     "execution_count": 59,
     "metadata": {},
     "output_type": "execute_result"
    }
   ],
   "source": [
    "len(X_principal['P2'].unique())"
   ]
  },
  {
   "cell_type": "code",
   "execution_count": 29,
   "metadata": {},
   "outputs": [
    {
     "data": {
      "image/png": "[encoded data removed]",
      "text/plain": [
       "<Figure size 432x432 with 1 Axes>"
      ]
     },
     "metadata": {
      "needs_background": "light"
     },
     "output_type": "display_data"
    }
   ],
   "source": [
    "ac5 = AgglomerativeClustering(n_clusters = 5)\n",
    "\n",
    "plt.figure(figsize =(6, 6))\n",
    "plt.scatter(X_principal['P1'], X_principal['P2'], \n",
    "           c = ac5.fit_predict(X_principal), cmap ='rainbow')\n",
    "plt.show()"
   ]
  },
  {
   "cell_type": "code",
   "execution_count": 23,
   "metadata": {},
   "outputs": [
    {
     "data": {
      "image/png": "[encoded data removed]",
      "text/plain": [
       "<Figure size 432x432 with 1 Axes>"
      ]
     },
     "metadata": {
      "needs_background": "light"
     },
     "output_type": "display_data"
    }
   ],
   "source": [
    "ac6 = AgglomerativeClustering(n_clusters = 6)\n",
    "\n",
    "plt.figure(figsize =(6, 6))\n",
    "plt.scatter(X_principal['P1'], X_principal['P2'], \n",
    "           c = ac6.fit_predict(X_principal), cmap ='rainbow')\n",
    "plt.show()"
   ]
  },
  {
   "cell_type": "code",
   "execution_count": 31,
   "metadata": {},
   "outputs": [
    {
     "data": {
      "image/png": "[encoded data removed]",
      "text/plain": [
       "<Figure size 432x288 with 1 Axes>"
      ]
     },
     "metadata": {
      "needs_background": "light"
     },
     "output_type": "display_data"
    }
   ],
   "source": [
    "k = [2, 3, 4, 5, 6]\n",
    "\n",
    "# Appending the silhouette scores of the different models to the list\n",
    "silhouette_scores = []\n",
    "silhouette_scores.append(\n",
    "\t\tsilhouette_score(X_principal, ac2.fit_predict(X_principal)))\n",
    "silhouette_scores.append(\n",
    "\t\tsilhouette_score(X_principal, ac3.fit_predict(X_principal)))\n",
    "silhouette_scores.append(\n",
    "\t\tsilhouette_score(X_principal, ac4.fit_predict(X_principal)))\n",
    "silhouette_scores.append(\n",
    "\t\tsilhouette_score(X_principal, ac5.fit_predict(X_principal)))\n",
    "silhouette_scores.append(\n",
    "\t\tsilhouette_score(X_principal, ac6.fit_predict(X_principal)))\n",
    "\n",
    "# Plotting a bar graph to compare the results\n",
    "plt.bar(k, silhouette_scores)\n",
    "plt.xlabel('Number of clusters', fontsize = 20)\n",
    "plt.ylabel('S(i)', fontsize = 20)\n",
    "plt.show()\n"
   ]
  },
  {
   "cell_type": "code",
   "execution_count": 63,
   "metadata": {},
   "outputs": [
    {
     "name": "stdout",
     "output_type": "stream",
     "text": [
      "Enter query for component search\n"
     ]
    }
   ],
   "source": [
    "print(\"Enter query for component search\")"
   ]
  },
  {
   "cell_type": "code",
   "execution_count": 8,
   "metadata": {},
   "outputs": [],
   "source": [
    "query=\"A java component for railway reservation containing login using username and password with captcha functionality ,date picker,dropdown for cities,train class and quota,calculation of fare with distance , train class and quota, dedicated payment page with options like debit card , credit card ,upi ,page to display list of trains \""
   ]
  },
  {
   "cell_type": "code",
   "execution_count": 9,
   "metadata": {},
   "outputs": [],
   "source": [
    "keywords=query.split(' ')"
   ]
  },
  {
   "cell_type": "code",
   "execution_count": 66,
   "metadata": {},
   "outputs": [
    {
     "data": {
      "text/plain": [
       "['A',\n",
       " 'java',\n",
       " 'component',\n",
       " 'for',\n",
       " 'railway',\n",
       " 'reservation',\n",
       " 'containing',\n",
       " 'login',\n",
       " 'using',\n",
       " 'username',\n",
       " 'and',\n",
       " 'password',\n",
       " 'with',\n",
       " 'captcha',\n",
       " 'functionality',\n",
       " ',date',\n",
       " 'picker,dropdown',\n",
       " 'for',\n",
       " 'cities,train',\n",
       " 'class',\n",
       " 'and',\n",
       " 'quota,calculation',\n",
       " 'of',\n",
       " 'fare',\n",
       " 'with',\n",
       " 'distance',\n",
       " ',',\n",
       " 'train',\n",
       " 'class',\n",
       " 'and',\n",
       " 'quota,',\n",
       " 'dedicated',\n",
       " 'payment',\n",
       " 'page',\n",
       " 'with',\n",
       " 'options',\n",
       " 'like',\n",
       " 'debit',\n",
       " 'card',\n",
       " ',',\n",
       " 'credit',\n",
       " 'card',\n",
       " ',upi',\n",
       " ',page',\n",
       " 'to',\n",
       " 'display',\n",
       " 'list',\n",
       " 'of',\n",
       " 'trains',\n",
       " '']"
      ]
     },
     "execution_count": 66,
     "metadata": {},
     "output_type": "execute_result"
    }
   ],
   "source": [
    "keywords"
   ]
  },
  {
   "cell_type": "code",
   "execution_count": 3,
   "metadata": {},
   "outputs": [],
   "source": [
    "import nltk\n",
    "from nltk.corpus import stopwords"
   ]
  },
  {
   "cell_type": "code",
   "execution_count": 10,
   "metadata": {},
   "outputs": [
    {
     "data": {
      "text/plain": [
       "179"
      ]
     },
     "execution_count": 10,
     "metadata": {},
     "output_type": "execute_result"
    }
   ],
   "source": [
    "stop_words = set(stopwords.words('english'))\n",
    "len(stop_words)"
   ]
  },
  {
   "cell_type": "code",
   "execution_count": null,
   "metadata": {},
   "outputs": [],
   "source": [
    "keywords_min=[]\n",
    "for word in keywords:\n",
    "    if word not in stop_words:\n",
    "        keywords.append(word)\n",
    "print(keywords_min)"
   ]
  },
  {
   "cell_type": "code",
   "execution_count": null,
   "metadata": {},
   "outputs": [],
   "source": []
  }
 ],
 "metadata": {
  "kernelspec": {
   "display_name": "Python 3",
   "language": "python",
   "name": "python3"
  },
  "language_info": {
   "codemirror_mode": {
    "name": "ipython",
    "version": 3
   },
   "file_extension": ".py",
   "mimetype": "text/x-python",
   "name": "python",
   "nbconvert_exporter": "python",
   "pygments_lexer": "ipython3",
   "version": "3.8.10"
  }
 },
 "nbformat": 4,
 "nbformat_minor": 4
}
