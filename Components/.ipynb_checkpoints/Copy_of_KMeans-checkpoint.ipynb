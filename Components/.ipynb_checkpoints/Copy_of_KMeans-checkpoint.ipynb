{
 "cells": [
  {
   "cell_type": "code",
   "execution_count": 1,
   "metadata": {
    "colab": {
     "base_uri": "https://localhost:8080/",
     "height": 354
    },
    "id": "1_Xb6DKrb6LA",
    "outputId": "ccce922c-5c9f-4c9f-fcd6-ce31a5ea4249",
    "scrolled": true
   },
   "outputs": [
    {
     "data": {
      "text/html": [
       "<div>\n",
       "<style scoped>\n",
       "    .dataframe tbody tr th:only-of-type {\n",
       "        vertical-align: middle;\n",
       "    }\n",
       "\n",
       "    .dataframe tbody tr th {\n",
       "        vertical-align: top;\n",
       "    }\n",
       "\n",
       "    .dataframe thead th {\n",
       "        text-align: right;\n",
       "    }\n",
       "</style>\n",
       "<table border=\"1\" class=\"dataframe\">\n",
       "  <thead>\n",
       "    <tr style=\"text-align: right;\">\n",
       "      <th></th>\n",
       "      <th>id</th>\n",
       "      <th>File Name</th>\n",
       "      <th>Component Name</th>\n",
       "      <th>Language</th>\n",
       "      <th>Type</th>\n",
       "      <th>Domain</th>\n",
       "      <th>Functionality</th>\n",
       "      <th>Input</th>\n",
       "      <th>Output</th>\n",
       "    </tr>\n",
       "  </thead>\n",
       "  <tbody>\n",
       "    <tr>\n",
       "      <th>46</th>\n",
       "      <td>NaN</td>\n",
       "      <td>ListofAuthorandGenere.py</td>\n",
       "      <td>List Author and Genre</td>\n",
       "      <td>python</td>\n",
       "      <td>Flask</td>\n",
       "      <td>Library Management</td>\n",
       "      <td>dropdown with list of authors and list of genres</td>\n",
       "      <td>author lists and genre lists</td>\n",
       "      <td>author name and genre</td>\n",
       "    </tr>\n",
       "    <tr>\n",
       "      <th>47</th>\n",
       "      <td>NaN</td>\n",
       "      <td>listofauthorsandgeners.jsp</td>\n",
       "      <td>List Author and Genre</td>\n",
       "      <td>jsp</td>\n",
       "      <td>NaN</td>\n",
       "      <td>Library Management</td>\n",
       "      <td>dropdown with list of authors and list of genres</td>\n",
       "      <td>author lists and genre lists</td>\n",
       "      <td>author name and genre</td>\n",
       "    </tr>\n",
       "    <tr>\n",
       "      <th>48</th>\n",
       "      <td>NaN</td>\n",
       "      <td>DatePicker.py</td>\n",
       "      <td>Date Picker</td>\n",
       "      <td>python</td>\n",
       "      <td>Flask</td>\n",
       "      <td>NaN</td>\n",
       "      <td>date picker UI to enter DOB in YYYY-MM-DD format</td>\n",
       "      <td>NaN</td>\n",
       "      <td>dateofbirth</td>\n",
       "    </tr>\n",
       "    <tr>\n",
       "      <th>49</th>\n",
       "      <td>NaN</td>\n",
       "      <td>AgeDisplay.py</td>\n",
       "      <td>Age Display</td>\n",
       "      <td>python</td>\n",
       "      <td>Flask</td>\n",
       "      <td>NaN</td>\n",
       "      <td>display of age calculated</td>\n",
       "      <td>age</td>\n",
       "      <td>age</td>\n",
       "    </tr>\n",
       "    <tr>\n",
       "      <th>50</th>\n",
       "      <td>NaN</td>\n",
       "      <td>AgeCalculator.java</td>\n",
       "      <td>Age Calculator</td>\n",
       "      <td>java</td>\n",
       "      <td>NaN</td>\n",
       "      <td>NaN</td>\n",
       "      <td>calculate age using year of birth and display ...</td>\n",
       "      <td>NaN</td>\n",
       "      <td>NaN</td>\n",
       "    </tr>\n",
       "  </tbody>\n",
       "</table>\n",
       "</div>"
      ],
      "text/plain": [
       "    id                   File Name         Component Name Language   Type  \\\n",
       "46 NaN    ListofAuthorandGenere.py  List Author and Genre   python  Flask   \n",
       "47 NaN  listofauthorsandgeners.jsp  List Author and Genre      jsp    NaN   \n",
       "48 NaN               DatePicker.py            Date Picker   python  Flask   \n",
       "49 NaN               AgeDisplay.py            Age Display   python  Flask   \n",
       "50 NaN          AgeCalculator.java         Age Calculator     java    NaN   \n",
       "\n",
       "                Domain                                      Functionality  \\\n",
       "46  Library Management   dropdown with list of authors and list of genres   \n",
       "47  Library Management   dropdown with list of authors and list of genres   \n",
       "48                 NaN   date picker UI to enter DOB in YYYY-MM-DD format   \n",
       "49                 NaN                          display of age calculated   \n",
       "50                 NaN  calculate age using year of birth and display ...   \n",
       "\n",
       "                           Input                 Output  \n",
       "46  author lists and genre lists  author name and genre  \n",
       "47  author lists and genre lists  author name and genre  \n",
       "48                           NaN            dateofbirth  \n",
       "49                           age                    age  \n",
       "50                           NaN                    NaN  "
      ]
     },
     "execution_count": 1,
     "metadata": {},
     "output_type": "execute_result"
    }
   ],
   "source": [
    "import pandas as pd\n",
    "data = pd.read_csv('Components.csv')\n",
    "data.tail()"
   ]
  },
  {
   "cell_type": "code",
   "execution_count": 2,
   "metadata": {
    "id": "AU5vK-GccJ3K"
   },
   "outputs": [],
   "source": [
    "functionalites=data.loc[:,\"Functionality\"]\n",
    "componentNames=data.loc[:,\"Component Name\"]\n",
    "componentFileNames=data.loc[:,\"File Name\"]"
   ]
  },
  {
   "cell_type": "code",
   "execution_count": 3,
   "metadata": {
    "id": "qXZYOWwGcyoC"
   },
   "outputs": [],
   "source": [
    "from sklearn.feature_extraction.text import TfidfVectorizer\n",
    "vectorizer = TfidfVectorizer(stop_words={'english'})\n",
    "X = vectorizer.fit_transform(functionalites)"
   ]
  },
  {
   "cell_type": "code",
   "execution_count": 4,
   "metadata": {
    "colab": {
     "base_uri": "https://localhost:8080/"
    },
    "id": "J1TZ8AHPc3sU",
    "outputId": "b2a19146-cdcf-4649-941a-9cf5096c0f30"
   },
   "outputs": [
    {
     "name": "stdout",
     "output_type": "stream",
     "text": [
      "['add', 'address', 'age', 'airline', 'amount', 'and', 'arrival', 'author', 'authors', 'based', 'birth', 'book', 'box', 'button', 'calculate', 'calculated', 'captcha', 'card', 'cash', 'charge', 'cities', 'city', 'class', 'code', 'containing', 'credit', 'date', 'days', 'dd', 'debit', 'delivery', 'departure', 'details', 'display', 'displaying', 'distance', 'dob', 'dropdown', 'duration', 'email', 'emi', 'enter', 'fare', 'format', 'genres', 'gst', 'guests', 'height', 'id', 'in', 'length', 'like', 'list', 'login', 'mm', 'name', 'netbanking', 'number', 'of', 'on', 'options', 'page', 'password', 'payment', 'percentage', 'phone', 'pic', 'picker', 'player', 'price', 'profile', 'room', 'search', 'shipping', 'state', 'stops', 'submit', 'the', 'to', 'topic', 'type', 'ui', 'upi', 'url', 'username', 'using', 'video', 'weight', 'width', 'with', 'year', 'years', 'youtube', 'yyyy']\n",
      "(51, 94)\n"
     ]
    },
    {
     "name": "stderr",
     "output_type": "stream",
     "text": [
      "/home/anshuman/.local/lib/python3.8/site-packages/sklearn/utils/deprecation.py:87: FutureWarning: Function get_feature_names is deprecated; get_feature_names is deprecated in 1.0 and will be removed in 1.2. Please use get_feature_names_out instead.\n",
      "  warnings.warn(msg, category=FutureWarning)\n"
     ]
    }
   ],
   "source": [
    "print(vectorizer.get_feature_names())\n",
    "print(X.shape)"
   ]
  },
  {
   "cell_type": "code",
   "execution_count": 5,
   "metadata": {
    "id": "upHsT2o5c5rW"
   },
   "outputs": [],
   "source": [
    "import matplotlib.pyplot as plt\n",
    "from sklearn.cluster import KMeans"
   ]
  },
  {
   "cell_type": "code",
   "execution_count": 6,
   "metadata": {
    "colab": {
     "base_uri": "https://localhost:8080/",
     "height": 295
    },
    "id": "z3KZIkpQdC17",
    "outputId": "7b1b25a8-915f-4520-a462-21407166b2ba"
   },
   "outputs": [
    {
     "data": {
      "image/png": "[encoded data removed]",
      "text/plain": [
       "<Figure size 432x288 with 1 Axes>"
      ]
     },
     "metadata": {
      "needs_background": "light"
     },
     "output_type": "display_data"
    }
   ],
   "source": [
    "Sum_of_squared_distances = []\n",
    "K = range(2,10)\n",
    "for k in K:\n",
    "    km = KMeans(n_clusters=k, max_iter=200, n_init=10)\n",
    "    km = km.fit(X)\n",
    "    Sum_of_squared_distances.append(km.inertia_)\n",
    "\n",
    "plt.plot(K, Sum_of_squared_distances, 'bx-')\n",
    "plt.xlabel('k')\n",
    "plt.ylabel('Sum_of_squared_distances')\n",
    "plt.title('Elbow Method For Optimal k')\n",
    "plt.show()"
   ]
  },
  {
   "cell_type": "code",
   "execution_count": 7,
   "metadata": {
    "colab": {
     "base_uri": "https://localhost:8080/"
    },
    "id": "uvK5roR_dHsa",
    "outputId": "2a7bb188-00dd-4f13-e67e-9802d477e9e4"
   },
   "outputs": [
    {
     "name": "stdout",
     "output_type": "stream",
     "text": [
      "            Component Name  cluster                   File Name\n",
      "0              Add Book UI        0              AddBookUI.html\n",
      "1              Add Book UI        0               AddBookUI.jsp\n",
      "2              Add Book UI        0                AddBookUI.py\n",
      "3            Add Book UI 1        0             AddBookUI1.html\n",
      "4            Add Book UI 1        0              AddBookUI1.jsp\n",
      "5            Add Book UI 1        0               AddBookUI1.py\n",
      "38           Room Selector        1           RoomSelector.java\n",
      "39           Room Selector        1            RoomSelector.jsp\n",
      "40           Room Selector        1             RoomSelector.py\n",
      "11    City Name with State        1       CityNameWithState.jsp\n",
      "46   List Author and Genre        1    ListofAuthorandGenere.py\n",
      "9            City Selector        1               CityComp.html\n",
      "47   List Author and Genre        1  listofauthorsandgeners.jsp\n",
      "10    City Name with State        1      CityNameWithState.html\n",
      "37          Payment Page 4        2           PaymentPageUI4.py\n",
      "36          Payment Page 3        2           PaymentPageUI3.py\n",
      "35          Payment Page 2        2           PaymentPageUI2.py\n",
      "34          Payment Page 1        2           PaymentPageUI1.py\n",
      "33            Payment Page        2            PaymentPageUI.py\n",
      "43              Search Box        3              searchBox.java\n",
      "42              Search Box        3               searchBox.jsp\n",
      "41              Search Box        3                searchBox.py\n",
      "8         Calculate Button        3        calculateButton.html\n",
      "32         Shipping Charge        4           shippingCharge.js\n",
      "48             Date Picker        4               DatePicker.py\n",
      "31         Shipping Charge        4           shippingCharge.py\n",
      "50          Age Calculator        4          AgeCalculator.java\n",
      "18          GST Calculator        4            GSTCalculator.py\n",
      "49             Age Display        4               AgeDisplay.py\n",
      "6           Age Calculator        4           age_calculator.js\n",
      "7           Age Calculator        4            ageCalculator.py\n",
      "12             Date Picker        4           DatePickerUI.html\n",
      "19          GST Calculator        4            GSTCalculator.js\n",
      "13   Hotel Fare Calculator        4      FareCalculatorHotel.js\n",
      "17          GST Calculator        4          GSTCalculator.java\n",
      "16  Travel Fare Calculator        4     FareCalculatorTravel.py\n",
      "15  Travel Fare Calculator        4     FareCalculatorTravel.js\n",
      "14   Hotel Fare Calculator        4      FareCalculatorHotel.py\n",
      "28            Profile Page        5              ProfilePage.py\n",
      "29            Profile Page        5             ProfilePage.jsp\n",
      "30          Profile Page 1        5             ProfilePage1.py\n",
      "45          Flight Display        5         FlightDisplayUI.jsp\n",
      "44          Flight Display        5            FlightDisplay.py\n",
      "27            Video Player        6            videoPlayURL.jsp\n",
      "20                   login        6                    login.py\n",
      "21                   login        6                  login.java\n",
      "22           login Captcha        6             loginCaptcha.py\n",
      "23           login Captcha        6          loginUICaptcha.jsp\n",
      "24    Youtube Video Player        6         youtubeVideoPlay.py\n",
      "26            Video Player        6             videoPlayURL.py\n",
      "25    Youtube Video Player        6       youtubeVideoPlay.html\n"
     ]
    }
   ],
   "source": [
    "true_k = 7\n",
    "model=KMeans(n_clusters=true_k).fit(X)\n",
    "labels=model.labels_\n",
    "functionality_cluster=pd.DataFrame(list(zip(componentNames,labels,componentFileNames)),columns=['Component Name','cluster','File Name'])\n",
    "print(functionality_cluster.sort_values(by=['cluster']))"
   ]
  },
  {
   "cell_type": "code",
   "execution_count": 8,
   "metadata": {
    "id": "161GARCbdnBM"
   },
   "outputs": [],
   "source": [
    "component_by_cluster={}\n",
    "for k in range(0,true_k):\n",
    "    titles=functionality_cluster[functionality_cluster.cluster==k]['Component Name']\n",
    "    filenames=functionality_cluster[functionality_cluster.cluster==k]['File Name']\n",
    "    component_by_cluster[k]=filenames"
   ]
  },
  {
   "cell_type": "code",
   "execution_count": 9,
   "metadata": {
    "id": "GSvCPeEOo7o6"
   },
   "outputs": [],
   "source": [
    "# for usecase in usecases:\n",
    "# #     read each bit by bit point of use case as list store it as system requirement\n",
    "# # vectorize the list\n",
    "# # apply prediction\n",
    "#     pass\n",
    "\n",
    "\n",
    "usecases=[]\n",
    "usecase1=[\n",
    "    \"User Registers using email and password\",\n",
    "    \"user logs in using username and password\",\n",
    "    \"login is authenticated from the server\",\n",
    "    \"a list of youtube videos is displayed to the user\",\n",
    "    \"a video list item contains video name,video watch count\",\n",
    "    \"on clicking on a video , youtube video player is opened and video is played using youtube video id\",\n",
    "    \"User logs out\"\n",
    "]\n",
    "usecase2=[\n",
    "    \"User enters DOB using date picker with format YYYY-MM-DD\",\n",
    "    \"age is calculated from DOB with date format in YYYY-MM-DD\",\n",
    "    \"Calculated age is displayed\"\n",
    "]\n",
    "useCase3=[\n",
    "    \"User registers using email, username and password\",\n",
    "    \"user logs in using username and password with captcha\",\n",
    "    \"username and password is checked\",\n",
    "    \"if the username and password not matched then error page is displayed\",\n",
    "    \"if matched then, user chooses city from city state dropdown\",\n",
    "    \"hotels are searched for using city and state name\",\n",
    "    \"list of hotels is displayed\",\n",
    "    \"user selects a hotel from the list, the user enters room type and number of persons\",\n",
    "    \"users enters date of booking\",\n",
    "    \"fare is calculated for the booking using room type and number of persons\",\n",
    "    \"gst is calculated on the fare\",\n",
    "    \"payments options are displayed which contains options like credit card, debit card and upi\",\n",
    "    \"payment api\",\n",
    "    \"on sucessful payment booking confirmed page is shown displaying username ,room type ,number of persons and fare\"\n",
    "    \"on unsucessful payment payment failed page is shown\"\n",
    "    \"logout or book another option\"\n",
    "]\n",
    "useCase4=[\n",
    "    \"login page is displayed with register button.User logs in using username and password\",\n",
    "    \"username and password is matched with database\",\n",
    "    \"if user found then add book, search book options are displayed\",\n",
    "    \"on add book option user enters book name, book year, book price\",\n",
    "    \"book name is matched with database\",\n",
    "    \"if no match found then user selects the genre and author name from dropdown\",\n",
    "    \"book added sucessfully dialog is shown\",\n",
    "    \"user back to home screen\",\n",
    "    \"on search book option book name is entered by the user\",\n",
    "    \"book genere and author name is selected by the user from dropdown\",\n",
    "    \"book is searched from the database using book name, author name and genre\",\n",
    "    \"if book is found, the list of books are displayed with book name, book price and author name\",\n",
    "    \"user selects a book from the list, the cost of renting the book is calculated\",\n",
    "    \"gst is calculated for the renting price\",\n",
    "    \"payment page is displayed with options like upi and cash\",\n",
    "    \"book count is updated for the selected book\", \n",
    "    \"main window is displayed again\"\n",
    "]\n",
    "useCase5=[\n",
    "    \"User register using username, email , password and confirm password\"\n",
    "    \"user logs in using username and password\"\n",
    "    \"username password combination is compared\",\n",
    "    \"if no match found then error page is displayed\",\n",
    "    \"if match is found then user selects from city , to city from dropdown\",\n",
    "    \"user enters date of journey\",\n",
    "    \"user enter the class type\",\n",
    "    \"flights are searched using from city , to city and date of journey\",\n",
    "    \"list of flights are displayed with details like airline name, airline code, departure time, arrival time , number of stops, duration\",\n",
    "    \"user selects a flight from the list\",\n",
    "    \"user enters passenger details like name, age, address and phone number\",\n",
    "    \"gst is calculated on the fare\",\n",
    "    \"payment page is displayed with options like credit card, debit card, upi and netbanking\",\n",
    "    \"payment api\",\n",
    "    \"on payment confirmed booking page confirmation is displayed\",\n",
    "    \"if payment failed then payment failed page is displayed\",\n",
    "    \"logout or book another page is displayed\",\n",
    "    \"if logout then thank you page is displayed\"\n",
    "]\n",
    "\n",
    "\n",
    "\n",
    "        "
   ]
  },
  {
   "cell_type": "code",
   "execution_count": 10,
   "metadata": {
    "id": "npNqbI_0tr4t"
   },
   "outputs": [],
   "source": [
    "requirement1=\"User enters DOB using date picker with format YYYY-MM-DD\"\n",
    "requirement2=\"age is calculated from DOB with date format in YYYY-MM-DD\"\n",
    "requirement3=\"Calculated age is displayed\"\n",
    "req_list=[requirement1,requirement2,requirement3]\n",
    "language='python'"
   ]
  },
  {
   "cell_type": "code",
   "execution_count": 11,
   "metadata": {
    "colab": {
     "base_uri": "https://localhost:8080/"
    },
    "id": "DATq80DFl_SS",
    "outputId": "c149bafe-c29a-4dc9-a50c-e1453137af5a"
   },
   "outputs": [
    {
     "name": "stdout",
     "output_type": "stream",
     "text": [
      "3\n"
     ]
    }
   ],
   "source": [
    "req = vectorizer.transform(req_list)\n",
    "result=model.predict(req)\n",
    "print(len(result))"
   ]
  },
  {
   "cell_type": "code",
   "execution_count": 12,
   "metadata": {
    "colab": {
     "base_uri": "https://localhost:8080/"
    },
    "id": "n4GHBFvtn8Zq",
    "outputId": "ba093003-6925-4111-f397-44fb823f4485"
   },
   "outputs": [
    {
     "name": "stdout",
     "output_type": "stream",
     "text": [
      "3\n"
     ]
    }
   ],
   "source": [
    "req_list_answer=[\"\"]*len(req_list)\n",
    "print(len(req_list_answer))"
   ]
  },
  {
   "cell_type": "code",
   "execution_count": 13,
   "metadata": {
    "colab": {
     "base_uri": "https://localhost:8080/"
    },
    "id": "CB1AoGX9NfYF",
    "outputId": "560ac320-31b0-465f-9ac1-05fd39b5628c"
   },
   "outputs": [
    {
     "name": "stderr",
     "output_type": "stream",
     "text": [
      "[nltk_data] Error loading punkt: <urlopen error Tunnel connection\n",
      "[nltk_data]     failed: 407 Proxy Authentication Required>\n",
      "[nltk_data] Error loading stopwords: <urlopen error Tunnel connection\n",
      "[nltk_data]     failed: 407 Proxy Authentication Required>\n"
     ]
    }
   ],
   "source": [
    "import nltk\n",
    "from nltk.corpus import stopwords\n",
    "nltk.download('punkt')\n",
    "nltk.download('stopwords')\n",
    "from nltk.tokenize import word_tokenize\n",
    "component_langauge=data[data['Language'] == language]\n",
    "i=0\n",
    "# loop through each cluster number in the result\n",
    "for clusterNumber in result:\n",
    "    # get all the components in the given cluster\n",
    "    components=component_by_cluster[clusterNumber]\n",
    "    # loop through all the components in the cluster\n",
    "    most_similar=\"\"\n",
    "    most_similar_score=0\n",
    "    for component_fileName in components:\n",
    "        component_current=component_langauge[component_langauge['File Name']==component_fileName]\n",
    "        if component_current.empty:\n",
    "            continue\n",
    "        functionality=str(component_current['Functionality'].str.lower())\n",
    "        text_tokens = word_tokenize(functionality)\n",
    "        tokens_without_sw = [word for word in text_tokens if not word in stopwords.words()]\n",
    "\n",
    "\n",
    "        input_tokens = word_tokenize(req_list[i])\n",
    "        input_tokens_without_stopwords = [word for word in input_tokens if not word in stopwords.words()]\n",
    "\n",
    "        match_count=0\n",
    "        for token in input_tokens_without_stopwords:\n",
    "            if token in functionality:\n",
    "                match_count+=1\n",
    "            score=match_count/len(tokens_without_sw)\n",
    "\n",
    "        if score>most_similar_score:\n",
    "            most_similar_score=score\n",
    "            most_similar=component_fileName\n",
    "    req_list_answer[i]=most_similar\n",
    "    i+=1\n",
    "    "
   ]
  },
  {
   "cell_type": "code",
   "execution_count": 14,
   "metadata": {
    "colab": {
     "base_uri": "https://localhost:8080/",
     "height": 415
    },
    "id": "bNRVWrMTSrLg",
    "outputId": "793fdfbf-6bf8-4ce6-d0db-a3c6b23bd3e3"
   },
   "outputs": [
    {
     "name": "stdout",
     "output_type": "stream",
     "text": [
      "dateofbirth:2000-06-02\n",
      "\n",
      "age:45\n",
      "\n",
      "dateofbirth:2022-06-15\n",
      "\n",
      "DatePicker.py\n",
      "dateofbirth:2000-06-02\n",
      "\n",
      "age:45\n",
      "\n",
      "dateofbirth:2022-06-15\n",
      "\n",
      "dateofbirth:1920-06-18\n",
      "\n",
      "ageCalculator.py\n",
      "1920-06-18\n",
      "\n",
      "dateofbirth:2000-06-02\n",
      "\n",
      "age:45\n",
      "\n",
      "dateofbirth:2022-06-15\n",
      "\n",
      "dateofbirth:1920-06-18\n",
      "\n",
      "AgeDisplay.py\n"
     ]
    }
   ],
   "source": [
    "import subprocess\n",
    "import os\n",
    "\n",
    "if language=='python':\n",
    "    for filename in req_list_answer:\n",
    "        myvars = {}\n",
    "        myvars['']=\"\"\n",
    "        with open(\"temp.txt\") as myfile:\n",
    "            for line in myfile:\n",
    "                name, var = line.partition(\"=\")[::2]\n",
    "                print(name+\":\"+var)\n",
    "                myvars[name.strip()] = var\n",
    "        # get the component details using file name\n",
    "        component=data.loc[data['File Name']==filename]\n",
    "        # get the inputs of file\n",
    "        print(filename)\n",
    "        component_type=component.iloc[0]['Type']\n",
    "        output=component.iloc[0]['Output']\n",
    "        inputT=component.iloc[0]['Input']\n",
    "        if pd.isna(inputT):\n",
    "            inputT=\"\"\n",
    "        if pd.isna(output):\n",
    "            output=\"\"\n",
    "        if component_type=='Flask':\n",
    "            os.environ[\"FLASK_APP\"] = filename\n",
    "            flask_process=subprocess.Popen([\"flask\",\"run\"])\n",
    "            window=subprocess.Popen([\"firefox\",\"http://localhost:5000/\"+output+\"?\"+str(inputT)+\"=\"+myvars[str(inputT)]])\n",
    "            window.wait()\n",
    "            flask_process.terminate()\n",
    "            flask_process.kill()\n",
    "        else:\n",
    "            print(myvars[str(inputT)])\n",
    "            python_process=subprocess.Popen([\"python\",filename,myvars[str(inputT)]])\n",
    "            python_process.wait()\n",
    "            \n",
    "            \n",
    "            "
   ]
  },
  {
   "cell_type": "code",
   "execution_count": null,
   "metadata": {},
   "outputs": [],
   "source": []
  }
 ],
 "metadata": {
  "colab": {
   "name": "Copy of KMeans.ipynb",
   "provenance": []
  },
  "kernelspec": {
   "display_name": "Python 3",
   "language": "python",
   "name": "python3"
  },
  "language_info": {
   "codemirror_mode": {
    "name": "ipython",
    "version": 3
   },
   "file_extension": ".py",
   "mimetype": "text/x-python",
   "name": "python",
   "nbconvert_exporter": "python",
   "pygments_lexer": "ipython3",
   "version": "3.8.10"
  }
 },
 "nbformat": 4,
 "nbformat_minor": 1
}
