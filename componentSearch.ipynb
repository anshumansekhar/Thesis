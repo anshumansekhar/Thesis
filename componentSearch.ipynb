{
  "nbformat": 4,
  "nbformat_minor": 0,
  "metadata": {
    "colab": {
      "name": "componentSearch.ipynb",
      "provenance": [],
      "collapsed_sections": []
    },
    "kernelspec": {
      "name": "python3",
      "display_name": "Python 3"
    },
    "language_info": {
      "name": "python"
    }
  },
  "cells": [
    {
      "cell_type": "code",
      "execution_count": 28,
      "metadata": {
        "id": "IKraY9qeZjkW"
      },
      "outputs": [],
      "source": [
        "import pandas as pd\n",
        "import numpy as np\n"
      ]
    },
    {
      "cell_type": "code",
      "source": [
        "selected_Components=[]"
      ],
      "metadata": {
        "id": "Qqqn8Rs1tO6t"
      },
      "execution_count": 47,
      "outputs": []
    },
    {
      "cell_type": "code",
      "source": [
        "data = pd.read_csv('components.csv')"
      ],
      "metadata": {
        "id": "VRXWmqiAs6ZP"
      },
      "execution_count": 30,
      "outputs": []
    },
    {
      "cell_type": "code",
      "source": [
        "data.head()"
      ],
      "metadata": {
        "colab": {
          "base_uri": "https://localhost:8080/",
          "height": 206
        },
        "id": "uX17Fv8Ctnv4",
        "outputId": "ea896c9e-29ab-4b5c-829f-fcd8b4a1b879"
      },
      "execution_count": 31,
      "outputs": [
        {
          "output_type": "execute_result",
          "data": {
            "text/html": [
              "\n",
              "  <div id=\"df-33e11e63-85f6-4643-a093-b667da2389eb\">\n",
              "    <div class=\"colab-df-container\">\n",
              "      <div>\n",
              "<style scoped>\n",
              "    .dataframe tbody tr th:only-of-type {\n",
              "        vertical-align: middle;\n",
              "    }\n",
              "\n",
              "    .dataframe tbody tr th {\n",
              "        vertical-align: top;\n",
              "    }\n",
              "\n",
              "    .dataframe thead th {\n",
              "        text-align: right;\n",
              "    }\n",
              "</style>\n",
              "<table border=\"1\" class=\"dataframe\">\n",
              "  <thead>\n",
              "    <tr style=\"text-align: right;\">\n",
              "      <th></th>\n",
              "      <th>id</th>\n",
              "      <th>Component Name</th>\n",
              "      <th>Language</th>\n",
              "      <th>Type</th>\n",
              "      <th>Domain</th>\n",
              "      <th>Visibility</th>\n",
              "      <th>Functionality</th>\n",
              "    </tr>\n",
              "  </thead>\n",
              "  <tbody>\n",
              "    <tr>\n",
              "      <th>0</th>\n",
              "      <td>1</td>\n",
              "      <td>Login</td>\n",
              "      <td>Java</td>\n",
              "      <td>JSP</td>\n",
              "      <td>Educational</td>\n",
              "      <td>UI</td>\n",
              "      <td>Login using username and password</td>\n",
              "    </tr>\n",
              "    <tr>\n",
              "      <th>1</th>\n",
              "      <td>2</td>\n",
              "      <td>Login</td>\n",
              "      <td>Java</td>\n",
              "      <td>JSP</td>\n",
              "      <td>Reservation</td>\n",
              "      <td>UI</td>\n",
              "      <td>Login using username and password with captcha...</td>\n",
              "    </tr>\n",
              "    <tr>\n",
              "      <th>2</th>\n",
              "      <td>3</td>\n",
              "      <td>Date Picker</td>\n",
              "      <td>Java</td>\n",
              "      <td>JSP</td>\n",
              "      <td>Booking</td>\n",
              "      <td>UI</td>\n",
              "      <td>calendar to pick dates</td>\n",
              "    </tr>\n",
              "    <tr>\n",
              "      <th>3</th>\n",
              "      <td>4</td>\n",
              "      <td>Calendar</td>\n",
              "      <td>JavaScript</td>\n",
              "      <td>React</td>\n",
              "      <td>Booking</td>\n",
              "      <td>UI</td>\n",
              "      <td>calendar to pick dates</td>\n",
              "    </tr>\n",
              "    <tr>\n",
              "      <th>4</th>\n",
              "      <td>5</td>\n",
              "      <td>City Dropdown</td>\n",
              "      <td>Java</td>\n",
              "      <td>JSP</td>\n",
              "      <td>Hotel Booking</td>\n",
              "      <td>UI</td>\n",
              "      <td>dropdown displaying all cities</td>\n",
              "    </tr>\n",
              "  </tbody>\n",
              "</table>\n",
              "</div>\n",
              "      <button class=\"colab-df-convert\" onclick=\"convertToInteractive('df-33e11e63-85f6-4643-a093-b667da2389eb')\"\n",
              "              title=\"Convert this dataframe to an interactive table.\"\n",
              "              style=\"display:none;\">\n",
              "        \n",
              "  <svg xmlns=\"http://www.w3.org/2000/svg\" height=\"24px\"viewBox=\"0 0 24 24\"\n",
              "       width=\"24px\">\n",
              "    <path d=\"M0 0h24v24H0V0z\" fill=\"none\"/>\n",
              "    <path d=\"M18.56 5.44l.94 2.06.94-2.06 2.06-.94-2.06-.94-.94-2.06-.94 2.06-2.06.94zm-11 1L8.5 8.5l.94-2.06 2.06-.94-2.06-.94L8.5 2.5l-.94 2.06-2.06.94zm10 10l.94 2.06.94-2.06 2.06-.94-2.06-.94-.94-2.06-.94 2.06-2.06.94z\"/><path d=\"M17.41 7.96l-1.37-1.37c-.4-.4-.92-.59-1.43-.59-.52 0-1.04.2-1.43.59L10.3 9.45l-7.72 7.72c-.78.78-.78 2.05 0 2.83L4 21.41c.39.39.9.59 1.41.59.51 0 1.02-.2 1.41-.59l7.78-7.78 2.81-2.81c.8-.78.8-2.07 0-2.86zM5.41 20L4 18.59l7.72-7.72 1.47 1.35L5.41 20z\"/>\n",
              "  </svg>\n",
              "      </button>\n",
              "      \n",
              "  <style>\n",
              "    .colab-df-container {\n",
              "      display:flex;\n",
              "      flex-wrap:wrap;\n",
              "      gap: 12px;\n",
              "    }\n",
              "\n",
              "    .colab-df-convert {\n",
              "      background-color: #E8F0FE;\n",
              "      border: none;\n",
              "      border-radius: 50%;\n",
              "      cursor: pointer;\n",
              "      display: none;\n",
              "      fill: #1967D2;\n",
              "      height: 32px;\n",
              "      padding: 0 0 0 0;\n",
              "      width: 32px;\n",
              "    }\n",
              "\n",
              "    .colab-df-convert:hover {\n",
              "      background-color: #E2EBFA;\n",
              "      box-shadow: 0px 1px 2px rgba(60, 64, 67, 0.3), 0px 1px 3px 1px rgba(60, 64, 67, 0.15);\n",
              "      fill: #174EA6;\n",
              "    }\n",
              "\n",
              "    [theme=dark] .colab-df-convert {\n",
              "      background-color: #3B4455;\n",
              "      fill: #D2E3FC;\n",
              "    }\n",
              "\n",
              "    [theme=dark] .colab-df-convert:hover {\n",
              "      background-color: #434B5C;\n",
              "      box-shadow: 0px 1px 3px 1px rgba(0, 0, 0, 0.15);\n",
              "      filter: drop-shadow(0px 1px 2px rgba(0, 0, 0, 0.3));\n",
              "      fill: #FFFFFF;\n",
              "    }\n",
              "  </style>\n",
              "\n",
              "      <script>\n",
              "        const buttonEl =\n",
              "          document.querySelector('#df-33e11e63-85f6-4643-a093-b667da2389eb button.colab-df-convert');\n",
              "        buttonEl.style.display =\n",
              "          google.colab.kernel.accessAllowed ? 'block' : 'none';\n",
              "\n",
              "        async function convertToInteractive(key) {\n",
              "          const element = document.querySelector('#df-33e11e63-85f6-4643-a093-b667da2389eb');\n",
              "          const dataTable =\n",
              "            await google.colab.kernel.invokeFunction('convertToInteractive',\n",
              "                                                     [key], {});\n",
              "          if (!dataTable) return;\n",
              "\n",
              "          const docLinkHtml = 'Like what you see? Visit the ' +\n",
              "            '<a target=\"_blank\" href=https://colab.research.google.com/notebooks/data_table.ipynb>data table notebook</a>'\n",
              "            + ' to learn more about interactive tables.';\n",
              "          element.innerHTML = '';\n",
              "          dataTable['output_type'] = 'display_data';\n",
              "          await google.colab.output.renderOutput(dataTable, element);\n",
              "          const docLink = document.createElement('div');\n",
              "          docLink.innerHTML = docLinkHtml;\n",
              "          element.appendChild(docLink);\n",
              "        }\n",
              "      </script>\n",
              "    </div>\n",
              "  </div>\n",
              "  "
            ],
            "text/plain": [
              "   id  ...                                      Functionality\n",
              "0   1  ...                  Login using username and password\n",
              "1   2  ...  Login using username and password with captcha...\n",
              "2   3  ...                             calendar to pick dates\n",
              "3   4  ...                             calendar to pick dates\n",
              "4   5  ...                    dropdown displaying all cities \n",
              "\n",
              "[5 rows x 7 columns]"
            ]
          },
          "metadata": {},
          "execution_count": 31
        }
      ]
    },
    {
      "cell_type": "code",
      "source": [
        "import nltk\n",
        "nltk.download('stopwords')\n",
        "nltk.download('punkt')\n",
        "from nltk.tokenize import word_tokenize\n",
        "\n",
        "stop_words = set(stopwords.words('english'))\n",
        "\n",
        "language=\"\"\n",
        "languages=[\"java\",\"HTML\",\"javascript\"]"
      ],
      "metadata": {
        "colab": {
          "base_uri": "https://localhost:8080/"
        },
        "id": "FLoXZ8ci3Kmq",
        "outputId": "76d3a009-2518-4c06-cb3c-498d52c427b1"
      },
      "execution_count": 32,
      "outputs": [
        {
          "output_type": "stream",
          "name": "stdout",
          "text": [
            "[nltk_data] Downloading package stopwords to /root/nltk_data...\n",
            "[nltk_data]   Package stopwords is already up-to-date!\n",
            "[nltk_data] Downloading package punkt to /root/nltk_data...\n",
            "[nltk_data]   Package punkt is already up-to-date!\n"
          ]
        }
      ]
    },
    {
      "cell_type": "code",
      "source": [
        "print(\"enter requirements end to exit\")\n",
        "user_req=input(\"Enter the user requirement:\")\n",
        "user_requirements=[]\n",
        "while user_req!= 'end':\n",
        "  user_requirements.append(user_req)\n",
        "  user_req=input(\"Enter the user requirement:\")\n"
      ],
      "metadata": {
        "colab": {
          "base_uri": "https://localhost:8080/"
        },
        "id": "WOJkVBLReyyB",
        "outputId": "6f4f3ed3-f307-48b5-a3eb-efe1209992e1"
      },
      "execution_count": 43,
      "outputs": [
        {
          "name": "stdout",
          "output_type": "stream",
          "text": [
            "enter requirements end to exit\n",
            "Enter the user requirement:Login using username and password java\n",
            "Enter the user requirement:end\n"
          ]
        }
      ]
    },
    {
      "cell_type": "code",
      "source": [
        "for user_req in user_requirements:\n",
        "\n",
        "  word_tokens = word_tokenize(user_req)\n",
        "  user_req_compressed = [w.lower() for w in word_tokens if not w.lower() in stop_words]\n",
        "  for word in user_req_compressed:\n",
        "    if word in languages:\n",
        "      language=word\n",
        "      user_req_compressed.remove(word)\n",
        "      break\n",
        "  \n",
        "  user_req_str=\"\"\n",
        "  for word in user_req_compressed:\n",
        "    user_req_str=user_req_str+word+\" \"\n",
        "    \n",
        "  \n",
        "  \n",
        "  found=False\n",
        "  for index, row in data.iterrows():\n",
        "    keywords=[w for w in word_tokenize(row['Functionality']) if not w.lower() in stop_words]\n",
        "    if language==row['Language'].lower():\n",
        "      count=0\n",
        "      for keyword in keywords:\n",
        "        if keyword.lower() in user_req_compressed:\n",
        "          count=count+1\n",
        "      if count==len(keywords):\n",
        "        print('Complete match')\n",
        "        selected_Components.append(row['id'])\n",
        "        found=True\n",
        "      elif count/len(keywords)>0.5:\n",
        "        print('Call to modify component with Functionality:'+row['Functionality'])\n",
        "        selected_Components.append(row['id'])\n",
        "        found=True\n",
        "  if found==False:\n",
        "    print(\"Need to create a new component for the requirement of :\"+user_req_str)"
      ],
      "metadata": {
        "colab": {
          "base_uri": "https://localhost:8080/"
        },
        "id": "aBVS7Vv2g1P5",
        "outputId": "01a3a750-cb60-4747-b599-f5f686cd6dad"
      },
      "execution_count": 57,
      "outputs": [
        {
          "output_type": "stream",
          "name": "stdout",
          "text": [
            "Complete match\n",
            "Call to modify component with Functionality:Login using username and password with captcha protection\n"
          ]
        }
      ]
    },
    {
      "cell_type": "code",
      "source": [
        "\n",
        "\n"
      ],
      "metadata": {
        "id": "PSgtiBxz3KxO"
      },
      "execution_count": 34,
      "outputs": []
    },
    {
      "cell_type": "code",
      "source": [
        ""
      ],
      "metadata": {
        "id": "8kxJvY8cjNJ9"
      },
      "execution_count": 34,
      "outputs": []
    },
    {
      "cell_type": "code",
      "source": [
        "\n",
        "\n",
        "\n"
      ],
      "metadata": {
        "id": "iHoJVLAstvJi"
      },
      "execution_count": 34,
      "outputs": []
    },
    {
      "cell_type": "code",
      "source": [
        "selected_Components"
      ],
      "metadata": {
        "id": "WG59KQSxzPAh",
        "colab": {
          "base_uri": "https://localhost:8080/"
        },
        "outputId": "8e76c2d5-118f-4b5b-90cb-65a44c4c8b73"
      },
      "execution_count": 58,
      "outputs": [
        {
          "output_type": "execute_result",
          "data": {
            "text/plain": [
              "[1, 2, 1, 2, 1, 2]"
            ]
          },
          "metadata": {},
          "execution_count": 58
        }
      ]
    }
  ]
}