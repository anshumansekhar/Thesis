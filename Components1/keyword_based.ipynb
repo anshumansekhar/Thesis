{
 "cells": [
  {
   "cell_type": "code",
   "execution_count": 15,
   "metadata": {},
   "outputs": [
    {
     "name": "stdout",
     "output_type": "stream",
     "text": [
      "14\n",
      "['    1. User registers using email, username ,password', '    2. User log in using username and password.', '    3. Login error page if no match is displayed', '    4. user chooses city state dropdown', '    5. hotels are searched for using city and state name', '    6. searched list of hotels is displayed and user select a hotel from the list.', '    7. the user enters room type and number of guests', '    8. users enters from date and to date', '    9. fare is calculated for the booking using room type,number of persons ,from date and to date', '    10. gst is calculated on the amount', '    11. payments options are displayed which contains options like credit card, debit card and upi', '    12. on sucessful payment booking confirmed page is shown displaying username , room type , number of persons and total amount', '    13. if payment failed page is shown with amount', '    14. logout button', '']\n"
     ]
    }
   ],
   "source": [
    "from tkinter import *\n",
    "req_list=[]\n",
    "def get_language(choice):\n",
    "    choice=clicked.get()\n",
    "    lbl.config(text = \"Provided Input: \"+choice)\n",
    "    global language\n",
    "    language=choice\n",
    "    \n",
    "\n",
    "def printInput():\n",
    "    inp = inputtxt.get(1.0, END)\n",
    "    lbl.config(text = \"Provided Input: \"+inp)\n",
    "    print(inp.count('\\n'))\n",
    "    global req_list\n",
    "    inp.strip()\n",
    "    req_list=inp.split('\\n')\n",
    "    \n",
    "    \n",
    "    \n",
    "\n",
    "top = Tk()\n",
    "top.title(\"Tool Demo\")\n",
    "languages = [\n",
    "    \"Python\",\n",
    "    \"Java\",\n",
    "    \"React\"\n",
    "]\n",
    "# datatype of menu text\n",
    "clicked = StringVar()\n",
    "  \n",
    "# initial menu text\n",
    "clicked.set( \"React\" )\n",
    "  \n",
    "# Create Dropdown menu\n",
    "languageDropDown = OptionMenu( top , clicked , *languages,command=get_language)\n",
    "languageDropDown.pack()\n",
    "\n",
    "\n",
    "inputtxt = Text(top)\n",
    "inputtxt.pack()\n",
    "\n",
    "printButton = Button(top,text = \"Get Components\", command = printInput)\n",
    "printButton.pack()\n",
    "\n",
    "lbl = Label(top, text = \"\")\n",
    "lbl.pack()\n",
    "String=\"Hello \\n Hii\"\n",
    "top.mainloop()\n",
    "\n",
    "print(req_list)"
   ]
  },
  {
   "cell_type": "code",
   "execution_count": 16,
   "metadata": {},
   "outputs": [
    {
     "name": "stderr",
     "output_type": "stream",
     "text": [
      "[nltk_data] Error loading punkt: <urlopen error Tunnel connection\n",
      "[nltk_data]     failed: 407 Proxy Authentication Required>\n",
      "[nltk_data] Error loading stopwords: <urlopen error Tunnel connection\n",
      "[nltk_data]     failed: 407 Proxy Authentication Required>\n"
     ]
    }
   ],
   "source": [
    "import pandas as pd\n",
    "from sklearn.feature_extraction.text import TfidfVectorizer\n",
    "import matplotlib.pyplot as plt\n",
    "from sklearn.cluster import KMeans\n",
    "import nltk\n",
    "from nltk.corpus import stopwords\n",
    "nltk.download('punkt')\n",
    "nltk.download('stopwords')\n",
    "from nltk.tokenize import word_tokenize\n",
    "data = pd.read_csv('components.csv')\n",
    "data.tail()\n",
    "req_list_answer_text=[\"\"]*len(req_list)\n",
    "i=0\n",
    "global most_similar\n",
    "global most_similar_score\n",
    "\n",
    "\n",
    "for req in req_list:\n",
    "    most_similar_score=0\n",
    "    for index, row in data.iterrows():\n",
    "#         component_current=component_langauge.iloc[index]\n",
    "        functionality=row['Functionality'].lower()\n",
    "        text_tokens = word_tokenize(functionality)\n",
    "        tokens_without_sw = [word for word in text_tokens if not word in stopwords.words()]\n",
    "        input_tokens = word_tokenize(req_list[i])\n",
    "        input_tokens_without_stopwords = [word for word in input_tokens if not word in stopwords.words()]\n",
    "        while ',' in input_tokens_without_stopwords:\n",
    "            input_tokens_without_stopwords.remove(',')\n",
    "\n",
    "        match_count=0\n",
    "        for token in input_tokens_without_stopwords:\n",
    "            if token in functionality:\n",
    "                match_count+=1\n",
    "            score=match_count/len(tokens_without_sw)\n",
    "\n",
    "\n",
    "        if score>most_similar_score:\n",
    "            most_similar_score=score\n",
    "            most_similar=row\n",
    "    req_list_answer_text[i]=most_similar\n",
    "    i+=1\n",
    "    \n",
    "\n"
   ]
  },
  {
   "cell_type": "code",
   "execution_count": 17,
   "metadata": {},
   "outputs": [
    {
     "name": "stdout",
     "output_type": "stream",
     "text": [
      "    1. User registers using email, username ,password\n",
      "LoginScreen\n",
      "    2. User log in using username and password.\n",
      "LoginScreen\n",
      "    3. Login error page if no match is displayed\n",
      "LoginErrorPage\n",
      "    4. user chooses city state dropdown\n",
      "CityNameWithState\n",
      "    5. hotels are searched for using city and state name\n",
      "HotelSearch\n",
      "    6. searched list of hotels is displayed and user select a hotel from the list.\n",
      "HotelListUI\n",
      "    7. the user enters room type and number of guests\n",
      "RoomSelector\n",
      "    8. users enters from date and to date\n",
      "DateOfJourney\n",
      "    9. fare is calculated for the booking using room type,number of persons ,from date and to date\n",
      "DateOfJourney\n",
      "    10. gst is calculated on the amount\n",
      "GSTCalculator\n",
      "    11. payments options are displayed which contains options like credit card, debit card and upi\n",
      "PaymentPageUI\n",
      "    12. on sucessful payment booking confirmed page is shown displaying username , room type , number of persons and total amount\n",
      "ThankYouPage\n",
      "    13. if payment failed page is shown with amount\n",
      "PaymentFailed\n",
      "    14. logout button\n",
      "Logout\n",
      "\n",
      "Logout\n"
     ]
    }
   ],
   "source": [
    "for i in range(len(req_list)):\n",
    "    print(req_list[i])\n",
    "    print(req_list_answer_text[i]['ComponentName'])\n",
    "    "
   ]
  },
  {
   "cell_type": "code",
   "execution_count": null,
   "metadata": {},
   "outputs": [],
   "source": []
  }
 ],
 "metadata": {
  "kernelspec": {
   "display_name": "Python 3",
   "language": "python",
   "name": "python3"
  },
  "language_info": {
   "codemirror_mode": {
    "name": "ipython",
    "version": 3
   },
   "file_extension": ".py",
   "mimetype": "text/x-python",
   "name": "python",
   "nbconvert_exporter": "python",
   "pygments_lexer": "ipython3",
   "version": "3.8.10"
  }
 },
 "nbformat": 4,
 "nbformat_minor": 4
}
