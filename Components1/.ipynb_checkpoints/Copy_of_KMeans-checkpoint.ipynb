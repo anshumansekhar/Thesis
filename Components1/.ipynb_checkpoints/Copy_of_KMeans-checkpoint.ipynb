{
 "cells": [
  {
   "cell_type": "code",
   "execution_count": 87,
   "metadata": {
    "colab": {
     "base_uri": "https://localhost:8080/",
     "height": 354
    },
    "id": "1_Xb6DKrb6LA",
    "outputId": "ccce922c-5c9f-4c9f-fcd6-ce31a5ea4249",
    "scrolled": true
   },
   "outputs": [
    {
     "data": {
      "text/html": [
       "<div>\n",
       "<style scoped>\n",
       "    .dataframe tbody tr th:only-of-type {\n",
       "        vertical-align: middle;\n",
       "    }\n",
       "\n",
       "    .dataframe tbody tr th {\n",
       "        vertical-align: top;\n",
       "    }\n",
       "\n",
       "    .dataframe thead th {\n",
       "        text-align: right;\n",
       "    }\n",
       "</style>\n",
       "<table border=\"1\" class=\"dataframe\">\n",
       "  <thead>\n",
       "    <tr style=\"text-align: right;\">\n",
       "      <th></th>\n",
       "      <th>ComponentName</th>\n",
       "      <th>Language</th>\n",
       "      <th>Functionality</th>\n",
       "      <th>preCondition</th>\n",
       "      <th>postCondition</th>\n",
       "    </tr>\n",
       "  </thead>\n",
       "  <tbody>\n",
       "    <tr>\n",
       "      <th>11</th>\n",
       "      <td>NumberOfItems</td>\n",
       "      <td>React</td>\n",
       "      <td>number of items dropdown</td>\n",
       "      <td>selectedProduct</td>\n",
       "      <td>numberOfItems</td>\n",
       "    </tr>\n",
       "    <tr>\n",
       "      <th>12</th>\n",
       "      <td>ProductFareCalculator</td>\n",
       "      <td>React</td>\n",
       "      <td>fare calculator using discount, number of item...</td>\n",
       "      <td>amount,numberOfItems</td>\n",
       "      <td>amount</td>\n",
       "    </tr>\n",
       "    <tr>\n",
       "      <th>13</th>\n",
       "      <td>GSTCalculator</td>\n",
       "      <td>React</td>\n",
       "      <td>gst calculator on amount</td>\n",
       "      <td>amount</td>\n",
       "      <td>amount</td>\n",
       "    </tr>\n",
       "    <tr>\n",
       "      <th>14</th>\n",
       "      <td>PaymentPageUI1</td>\n",
       "      <td>React</td>\n",
       "      <td>payment page with options like credit card, de...</td>\n",
       "      <td>amount</td>\n",
       "      <td>paymentStatus</td>\n",
       "    </tr>\n",
       "    <tr>\n",
       "      <th>15</th>\n",
       "      <td>Logout</td>\n",
       "      <td>React</td>\n",
       "      <td>logout button</td>\n",
       "      <td>paymentStatus</td>\n",
       "      <td>loggedIn</td>\n",
       "    </tr>\n",
       "  </tbody>\n",
       "</table>\n",
       "</div>"
      ],
      "text/plain": [
       "            ComponentName Language  \\\n",
       "11          NumberOfItems    React   \n",
       "12  ProductFareCalculator    React   \n",
       "13          GSTCalculator    React   \n",
       "14         PaymentPageUI1    React   \n",
       "15                 Logout    React   \n",
       "\n",
       "                                        Functionality          preCondition  \\\n",
       "11                           number of items dropdown       selectedProduct   \n",
       "12  fare calculator using discount, number of item...  amount,numberOfItems   \n",
       "13                           gst calculator on amount                amount   \n",
       "14  payment page with options like credit card, de...                amount   \n",
       "15                                      logout button         paymentStatus   \n",
       "\n",
       "    postCondition  \n",
       "11  numberOfItems  \n",
       "12         amount  \n",
       "13         amount  \n",
       "14  paymentStatus  \n",
       "15       loggedIn  "
      ]
     },
     "execution_count": 87,
     "metadata": {},
     "output_type": "execute_result"
    }
   ],
   "source": [
    "import pandas as pd\n",
    "data = pd.read_csv('components.csv')\n",
    "data.tail()"
   ]
  },
  {
   "cell_type": "code",
   "execution_count": 88,
   "metadata": {
    "id": "AU5vK-GccJ3K"
   },
   "outputs": [],
   "source": [
    "functionalites=data.loc[:,\"Functionality\"]\n",
    "componentNames=data.loc[:,\"ComponentName\"]\n",
    "# componentFileNames=data.loc[:,\"File Name\"]"
   ]
  },
  {
   "cell_type": "code",
   "execution_count": 89,
   "metadata": {
    "id": "qXZYOWwGcyoC"
   },
   "outputs": [],
   "source": [
    "from sklearn.feature_extraction.text import TfidfVectorizer\n",
    "vectorizer = TfidfVectorizer(stop_words={'english'})\n",
    "X = vectorizer.fit_transform(functionalites)"
   ]
  },
  {
   "cell_type": "code",
   "execution_count": 90,
   "metadata": {
    "colab": {
     "base_uri": "https://localhost:8080/"
    },
    "id": "J1TZ8AHPc3sU",
    "outputId": "b2a19146-cdcf-4649-941a-9cf5096c0f30"
   },
   "outputs": [
    {
     "name": "stdout",
     "output_type": "stream",
     "text": [
      "['age', 'amount', 'and', 'banking', 'box', 'button', 'calculate', 'calculator', 'captcha', 'card', 'cash', 'category', 'confirm', 'credit', 'date', 'debit', 'details', 'discount', 'display', 'dropdown', 'email', 'entering', 'fare', 'for', 'gst', 'items', 'like', 'login', 'logout', 'name', 'net', 'number', 'of', 'on', 'option', 'options', 'page', 'password', 'payment', 'picker', 'price', 'product', 'register', 'registration', 'results', 'search', 'searching', 'select', 'the', 'upi', 'username', 'using', 'with']\n",
      "(16, 53)\n"
     ]
    },
    {
     "name": "stderr",
     "output_type": "stream",
     "text": [
      "/home/anshuman/.local/lib/python3.8/site-packages/sklearn/utils/deprecation.py:87: FutureWarning: Function get_feature_names is deprecated; get_feature_names is deprecated in 1.0 and will be removed in 1.2. Please use get_feature_names_out instead.\n",
      "  warnings.warn(msg, category=FutureWarning)\n"
     ]
    }
   ],
   "source": [
    "print(vectorizer.get_feature_names())\n",
    "print(X.shape)"
   ]
  },
  {
   "cell_type": "code",
   "execution_count": 91,
   "metadata": {
    "id": "upHsT2o5c5rW"
   },
   "outputs": [],
   "source": [
    "import matplotlib.pyplot as plt\n",
    "from sklearn.cluster import KMeans"
   ]
  },
  {
   "cell_type": "code",
   "execution_count": 92,
   "metadata": {
    "colab": {
     "base_uri": "https://localhost:8080/",
     "height": 295
    },
    "id": "z3KZIkpQdC17",
    "outputId": "7b1b25a8-915f-4520-a462-21407166b2ba"
   },
   "outputs": [
    {
     "data": {
      "image/png": "[encoded data removed]",
      "text/plain": [
       "<Figure size 432x288 with 1 Axes>"
      ]
     },
     "metadata": {
      "needs_background": "light"
     },
     "output_type": "display_data"
    }
   ],
   "source": [
    "Sum_of_squared_distances = []\n",
    "K = range(2,10)\n",
    "for k in K:\n",
    "    km = KMeans(n_clusters=k, max_iter=200, n_init=10)\n",
    "    km = km.fit(X)\n",
    "    Sum_of_squared_distances.append(km.inertia_)\n",
    "\n",
    "plt.plot(K, Sum_of_squared_distances, 'bx-')\n",
    "plt.xlabel('k')\n",
    "plt.ylabel('Sum_of_squared_distances')\n",
    "plt.title('Elbow Method For Optimal k')\n",
    "plt.show()"
   ]
  },
  {
   "cell_type": "code",
   "execution_count": 93,
   "metadata": {
    "colab": {
     "base_uri": "https://localhost:8080/"
    },
    "id": "uvK5roR_dHsa",
    "outputId": "2a7bb188-00dd-4f13-e67e-9802d477e9e4"
   },
   "outputs": [
    {
     "name": "stdout",
     "output_type": "stream",
     "text": [
      "            ComponentName  cluster\n",
      "0             LoginScreen        0\n",
      "1      LoginCaptchaScreen        0\n",
      "5            LoginScreen1        0\n",
      "7         ProductCategory        1\n",
      "8           SearchProduct        1\n",
      "9         SearchProductUI        1\n",
      "10            ProductList        1\n",
      "2      CalculateAgeScreen        2\n",
      "3        DisplayAgeOutput        2\n",
      "4          CalculateAgeUI        2\n",
      "13          GSTCalculator        3\n",
      "11          NumberOfItems        4\n",
      "12  ProductFareCalculator        4\n",
      "6               Register1        5\n",
      "14         PaymentPageUI1        5\n",
      "15                 Logout        6\n"
     ]
    }
   ],
   "source": [
    "true_k = 7\n",
    "model=KMeans(n_clusters=true_k).fit(X)\n",
    "labels=model.labels_\n",
    "functionality_cluster=pd.DataFrame(list(zip(componentNames,labels)),columns=['ComponentName','cluster'])\n",
    "print(functionality_cluster.sort_values(by=['cluster']))"
   ]
  },
  {
   "cell_type": "code",
   "execution_count": 94,
   "metadata": {
    "id": "161GARCbdnBM"
   },
   "outputs": [],
   "source": [
    "component_by_cluster={}\n",
    "for k in range(0,true_k):\n",
    "    titles=functionality_cluster[functionality_cluster.cluster==k]['ComponentName']\n",
    "#     filenames=functionality_cluster[functionality_cluster.cluster==k]['File Name']\n",
    "    component_by_cluster[k]=titles"
   ]
  },
  {
   "cell_type": "code",
   "execution_count": 95,
   "metadata": {
    "id": "GSvCPeEOo7o6"
   },
   "outputs": [],
   "source": [
    "# for usecase in usecases:\n",
    "# #     read each bit by bit point of use case as list store it as system requirement\n",
    "# # vectorize the list\n",
    "# # apply prediction\n",
    "#     pass\n",
    "\n",
    "\n",
    "usecases=[]\n",
    "useCase1=[\n",
    "    \"User Registers using email and password\",\n",
    "    \"user logs in using username and password\",\n",
    "    \"login is authenticated from the server\",\n",
    "    \"a list of youtube videos is displayed to the user\",\n",
    "    \"a video list item contains video name,video watch count ,on clicking on a video , youtube video player is opened and video is played using youtube video id\",\n",
    "    \"User logs out\"\n",
    "]\n",
    "useCase2=[\n",
    "    \"User enters DOB using date picker with format YYYY-MM-DD\",\n",
    "    \"age is calculated from DOB with date format in YYYY-MM-DD\",\n",
    "    \"Calculated age is displayed\"\n",
    "]\n",
    "useCase3=[\n",
    "    \"User registers using email, username and password\",\n",
    "    \"user logs in using username and password with captcha\",\n",
    "    \"username and password is checked\",\n",
    "    \"if the username and password not matched then error page is displayed\",\n",
    "    \"if matched then, user chooses city from city state dropdown\",\n",
    "    \"hotels are searched for using city and state name\",\n",
    "    \"list of hotels is displayed\",\n",
    "    \"user selects a hotel from the list, the user enters room type and number of persons\",\n",
    "    \"users enters date of booking\",\n",
    "    \"fare is calculated for the booking using room type and number of persons\",\n",
    "    \"gst is calculated on the fare\",\n",
    "    \"payments options are displayed which contains options like credit card, debit card and upi\",\n",
    "    \"payment api\",\n",
    "    \"on sucessful payment booking confirmed page is shown displaying username ,room type ,number of persons and fare\"\n",
    "    \"on unsucessful payment payment failed page is shown\"\n",
    "    \"logout or book another option\"\n",
    "]\n",
    "useCase4=[\n",
    "    \"login page is displayed with register button.User logs in using username and password\",\n",
    "    \"username and password is matched with database\",\n",
    "    \"if user found then add book, search book options are displayed\",\n",
    "    \"on add book option user enters book name, book year, book price\",\n",
    "    \"book name is matched with database\",\n",
    "    \"if no match found then user selects the genre and author name from dropdown\",\n",
    "    \"book added sucessfully dialog is shown\",\n",
    "    \"user back to home screen\",\n",
    "    \"on search book option book name is entered by the user\",\n",
    "    \"book genere and author name is selected by the user from dropdown\",\n",
    "    \"book is searched from the database using book name, author name and genre\",\n",
    "    \"if book is found, the list of books are displayed with book name, book price and author name\",\n",
    "    \"user selects a book from the list, the cost of renting the book is calculated\",\n",
    "    \"gst is calculated for the renting price\",\n",
    "    \"payment page is displayed with options like upi and cash\",\n",
    "    \"book count is updated for the selected book\", \n",
    "    \"main window is displayed again\"\n",
    "]\n",
    "useCase5=[\n",
    "    \"User register using username, email , password and confirm password\"\n",
    "    \"user logs in using username and password\"\n",
    "    \"username password combination is compared\",\n",
    "    \"if no match found then error page is displayed\",\n",
    "    \"if match is found then user selects from city , to city from dropdown\",\n",
    "    \"user enters date of journey\",\n",
    "    \"user enter the class type\",\n",
    "    \"flights are searched using from city , to city and date of journey\",\n",
    "    \"list of flights are displayed with details like airline name, airline code, departure time, arrival time , number of stops, duration\",\n",
    "    \"user selects a flight from the list\",\n",
    "    \"user enters passenger details like name, age, address and phone number\",\n",
    "    \"gst is calculated on the fare\",\n",
    "    \"payment page is displayed with options like credit card, debit card, upi and netbanking\",\n",
    "    \"payment api\",\n",
    "    \"on payment confirmed booking page confirmation is displayed\",\n",
    "    \"if payment failed then payment failed page is displayed\",\n",
    "    \"logout or book another page is displayed\",\n",
    "    \"if logout then thank you page is displayed\"\n",
    "]\n",
    "\n",
    "\n",
    "\n",
    "        "
   ]
  },
  {
   "cell_type": "code",
   "execution_count": null,
   "metadata": {},
   "outputs": [],
   "source": []
  },
  {
   "cell_type": "code",
   "execution_count": 96,
   "metadata": {
    "id": "npNqbI_0tr4t"
   },
   "outputs": [],
   "source": [
    "# requirement1=\"User enters DOB using date picker with format YYYY-MM-DD\"\n",
    "# requirement2=\"age is calculated from DOB with date format in YYYY-MM-DD\"\n",
    "# requirement3=\"Calculated age is displayed\"\n",
    "language='python'"
   ]
  },
  {
   "cell_type": "code",
   "execution_count": 97,
   "metadata": {},
   "outputs": [
    {
     "name": "stdout",
     "output_type": "stream",
     "text": [
      "\n",
      "11\n",
      "['    1. login page is displayed with username ,password and register option', '    2. if user enter register option then registration page is opened with details like name,email, username, password and confirm password', '    3. user selects product category from dropdown', '    4. user enter name of the product to search in search box', '    5. list of products are fetched using the search name and product type', '    6. list of products are displayed using the search results and user selects a product from the list', '    7. user selects number of items from the dropdown', '    8. fare is calculated using discount, product price and quantity', '    9. gst is calculated on the amount', '    10. payment page is displayed with options like credit card, debit card , netbanking, upi and cash', '    11. on successful payment logout button shown', '']\n"
     ]
    }
   ],
   "source": [
    "from tkinter import *\n",
    "req_list=[]\n",
    "def get_language(choice):\n",
    "    choice=clicked.get()\n",
    "    lbl.config(text = \"Provided Input: \"+choice)\n",
    "    language=choice\n",
    "\n",
    "def printInput():\n",
    "    inp = inputtxt.get(1.0, END)\n",
    "    lbl.config(text = \"Provided Input: \"+inp)\n",
    "    print(inp.count('\\n'))\n",
    "    global req_list\n",
    "    inp.strip()\n",
    "    req_list=inp.split('\\n')\n",
    "    \n",
    "    \n",
    "    \n",
    "\n",
    "top = Tk()\n",
    "top.title(\"Tool Demo\")\n",
    "languages = [\n",
    "    \"Python\",\n",
    "    \"Java\",\n",
    "    \"React\"\n",
    "]\n",
    "# datatype of menu text\n",
    "clicked = StringVar()\n",
    "  \n",
    "# initial menu text\n",
    "clicked.set( \"React\" )\n",
    "  \n",
    "# Create Dropdown menu\n",
    "languageDropDown = OptionMenu( top , clicked , *languages,command=get_language)\n",
    "languageDropDown.pack()\n",
    "\n",
    "\n",
    "inputtxt = Text(top)\n",
    "inputtxt.pack()\n",
    "\n",
    "printButton = Button(top,text = \"Get Components\", command = printInput)\n",
    "printButton.pack()\n",
    "\n",
    "lbl = Label(top, text = \"\")\n",
    "lbl.pack()\n",
    "String=\"Hello \\n Hii\"\n",
    "print()\n",
    "top.mainloop()\n",
    "\n",
    "print(req_list)"
   ]
  },
  {
   "cell_type": "code",
   "execution_count": 98,
   "metadata": {
    "colab": {
     "base_uri": "https://localhost:8080/"
    },
    "id": "DATq80DFl_SS",
    "outputId": "c149bafe-c29a-4dc9-a50c-e1453137af5a",
    "scrolled": true
   },
   "outputs": [
    {
     "name": "stdout",
     "output_type": "stream",
     "text": [
      "12\n"
     ]
    }
   ],
   "source": [
    "req = vectorizer.transform(req_list)\n",
    "result=model.predict(req)\n",
    "print(len(result))"
   ]
  },
  {
   "cell_type": "code",
   "execution_count": null,
   "metadata": {},
   "outputs": [],
   "source": []
  },
  {
   "cell_type": "code",
   "execution_count": null,
   "metadata": {},
   "outputs": [],
   "source": []
  },
  {
   "cell_type": "code",
   "execution_count": 99,
   "metadata": {
    "colab": {
     "base_uri": "https://localhost:8080/"
    },
    "id": "n4GHBFvtn8Zq",
    "outputId": "ba093003-6925-4111-f397-44fb823f4485"
   },
   "outputs": [
    {
     "name": "stdout",
     "output_type": "stream",
     "text": [
      "12\n"
     ]
    }
   ],
   "source": [
    "req_list_answer=[\"\"]*len(req_list)\n",
    "print(len(req_list_answer))"
   ]
  },
  {
   "cell_type": "code",
   "execution_count": 104,
   "metadata": {
    "colab": {
     "base_uri": "https://localhost:8080/"
    },
    "id": "CB1AoGX9NfYF",
    "outputId": "560ac320-31b0-465f-9ac1-05fd39b5628c",
    "scrolled": true
   },
   "outputs": [
    {
     "name": "stdout",
     "output_type": "stream",
     "text": [
      "0\n"
     ]
    },
    {
     "name": "stderr",
     "output_type": "stream",
     "text": [
      "[nltk_data] Error loading punkt: <urlopen error Tunnel connection\n",
      "[nltk_data]     failed: 407 Proxy Authentication Required>\n",
      "[nltk_data] Error loading stopwords: <urlopen error Tunnel connection\n",
      "[nltk_data]     failed: 407 Proxy Authentication Required>\n"
     ]
    }
   ],
   "source": [
    "import nltk\n",
    "from nltk.corpus import stopwords\n",
    "nltk.download('punkt')\n",
    "nltk.download('stopwords')\n",
    "from nltk.tokenize import word_tokenize\n",
    "component_langauge=data[data['Language'] == language]\n",
    "print(len(component_langauge))\n",
    "i=0\n",
    "# loop through each cluster number in the result\n",
    "for clusterNumber in result:\n",
    "    # get all the components in the given cluster\n",
    "    components=component_by_cluster[clusterNumber]\n",
    "    # loop through all the components in the cluster\n",
    "    most_similar=\"\"\n",
    "    most_similar_score=0\n",
    "    for component_name in components:\n",
    "        component_current=component_langauge[component_langauge['ComponentName']==component_name]\n",
    "        if component_current.empty:\n",
    "            continue\n",
    "        functionality=str(component_current['Functionality'].str.lower())\n",
    "        text_tokens = word_tokenize(functionality)\n",
    "        tokens_without_sw = [word for word in text_tokens if not word in stopwords.words()]\n",
    "\n",
    "\n",
    "        input_tokens = word_tokenize(req_list[i])\n",
    "        input_tokens_without_stopwords = [word for word in input_tokens if not word in stopwords.words()]\n",
    "\n",
    "        match_count=0\n",
    "        for token in input_tokens_without_stopwords:\n",
    "            if token in functionality:\n",
    "                match_count+=1\n",
    "            score=match_count/len(tokens_without_sw)\n",
    "\n",
    "        if score>most_similar_score:\n",
    "            most_similar_score=score\n",
    "            most_similar=component_fileName\n",
    "    req_list_answer[i]=most_similar\n",
    "    i+=1\n",
    "    "
   ]
  },
  {
   "cell_type": "code",
   "execution_count": 101,
   "metadata": {},
   "outputs": [
    {
     "data": {
      "text/plain": [
       "['', '', '', '', '', '', '', '', '', '', '', '']"
      ]
     },
     "execution_count": 101,
     "metadata": {},
     "output_type": "execute_result"
    }
   ],
   "source": [
    "req_list_answer"
   ]
  },
  {
   "cell_type": "code",
   "execution_count": 102,
   "metadata": {
    "colab": {
     "base_uri": "https://localhost:8080/",
     "height": 415
    },
    "id": "bNRVWrMTSrLg",
    "outputId": "793fdfbf-6bf8-4ce6-d0db-a3c6b23bd3e3"
   },
   "outputs": [],
   "source": [
    "# import subprocess\n",
    "# import os\n",
    "\n",
    "# if language=='python':\n",
    "#     for filename in req_list_answer:\n",
    "#         myvars = {}\n",
    "#         myvars['']=\"\"\n",
    "#         with open(\"temp.txt\") as myfile:\n",
    "#             for line in myfile:\n",
    "#                 name, var = line.partition(\"=\")[::2]\n",
    "#                 print(name+\":\"+var)\n",
    "#                 myvars[name.strip()] = var\n",
    "#         # get the component details using file name\n",
    "#         component=data.loc[data['File Name']==filename]\n",
    "#         # get the inputs of file\n",
    "#         print(filename)\n",
    "#         component_type=component.iloc[0]['Type']\n",
    "#         output=component.iloc[0]['Output']\n",
    "#         inputT=component.iloc[0]['Input']\n",
    "#         if pd.isna(inputT):\n",
    "#             inputT=\"\"\n",
    "#         if pd.isna(output):\n",
    "#             output=\"\"\n",
    "#         if component_type=='Flask':\n",
    "#             os.environ[\"FLASK_APP\"] = filename\n",
    "#             flask_process=subprocess.Popen([\"flask\",\"run\"])\n",
    "#             window=subprocess.Popen([\"firefox\",\"http://localhost:5000/\"+output+\"?\"+str(inputT)+\"=\"+myvars[str(inputT)]])\n",
    "#             window.wait()\n",
    "#             flask_process.terminate()\n",
    "#             flask_process.kill()\n",
    "#         else:\n",
    "#             print(myvars[str(inputT)])\n",
    "#             python_process=subprocess.Popen([\"python\",filename,myvars[str(inputT)]])\n",
    "#             python_process.wait()\n",
    "            \n",
    "            \n",
    "            "
   ]
  },
  {
   "cell_type": "code",
   "execution_count": null,
   "metadata": {},
   "outputs": [],
   "source": []
  }
 ],
 "metadata": {
  "colab": {
   "name": "Copy of KMeans.ipynb",
   "provenance": []
  },
  "kernelspec": {
   "display_name": "Python 3",
   "language": "python",
   "name": "python3"
  },
  "language_info": {
   "codemirror_mode": {
    "name": "ipython",
    "version": 3
   },
   "file_extension": ".py",
   "mimetype": "text/x-python",
   "name": "python",
   "nbconvert_exporter": "python",
   "pygments_lexer": "ipython3",
   "version": "3.8.10"
  }
 },
 "nbformat": 4,
 "nbformat_minor": 1
}
