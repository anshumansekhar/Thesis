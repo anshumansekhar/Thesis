{
 "cells": [
  {
   "cell_type": "code",
   "execution_count": 1,
   "metadata": {},
   "outputs": [
    {
     "name": "stdout",
     "output_type": "stream",
     "text": [
      "\n",
      "11\n",
      "['    1. login page is displayed with username ,password and register option', '    2. if user enter register option then registration page is opened with details like name,email, username, password and confirm password', '    3. user selects product category from dropdown', '    4. user enter name of the product to search in search box', '    5. list of products are fetched using the search name and product type', '    6. list of products are displayed using the search results and user selects a product from the list', '    7. user selects number of items from the dropdown', '    8. fare is calculated using discount, product price and quantity', '    9. gst is calculated on the amount', '    10. payment page is displayed with options like credit card, debit card , netbanking, upi and cash', '    11. on successful payment logout button shown', '']\n"
     ]
    }
   ],
   "source": [
    "from tkinter import *\n",
    "req_list=[]\n",
    "def get_language(choice):\n",
    "    choice=clicked.get()\n",
    "    lbl.config(text = \"Provided Input: \"+choice)\n",
    "    global language\n",
    "    language=choice\n",
    "    \n",
    "\n",
    "def printInput():\n",
    "    inp = inputtxt.get(1.0, END)\n",
    "    lbl.config(text = \"Provided Input: \"+inp)\n",
    "    print(inp.count('\\n'))\n",
    "    global req_list\n",
    "    inp.strip()\n",
    "    req_list=inp.split('\\n')\n",
    "    \n",
    "    \n",
    "    \n",
    "\n",
    "top = Tk()\n",
    "top.title(\"Tool Demo\")\n",
    "languages = [\n",
    "    \"Python\",\n",
    "    \"Java\",\n",
    "    \"React\"\n",
    "]\n",
    "# datatype of menu text\n",
    "clicked = StringVar()\n",
    "  \n",
    "# initial menu text\n",
    "clicked.set( \"React\" )\n",
    "  \n",
    "# Create Dropdown menu\n",
    "languageDropDown = OptionMenu( top , clicked , *languages,command=get_language)\n",
    "languageDropDown.pack()\n",
    "\n",
    "\n",
    "inputtxt = Text(top)\n",
    "inputtxt.pack()\n",
    "\n",
    "printButton = Button(top,text = \"Get Components\", command = printInput)\n",
    "printButton.pack()\n",
    "\n",
    "lbl = Label(top, text = \"\")\n",
    "lbl.pack()\n",
    "String=\"Hello \\n Hii\"\n",
    "print()\n",
    "top.mainloop()\n",
    "\n",
    "print(req_list)"
   ]
  },
  {
   "cell_type": "code",
   "execution_count": 11,
   "metadata": {},
   "outputs": [
    {
     "name": "stderr",
     "output_type": "stream",
     "text": [
      "[nltk_data] Error loading punkt: <urlopen error Tunnel connection\n",
      "[nltk_data]     failed: 407 Proxy Authentication Required>\n",
      "[nltk_data] Error loading stopwords: <urlopen error Tunnel connection\n",
      "[nltk_data]     failed: 407 Proxy Authentication Required>\n"
     ]
    }
   ],
   "source": [
    "import pandas as pd\n",
    "from sklearn.feature_extraction.text import TfidfVectorizer\n",
    "import matplotlib.pyplot as plt\n",
    "from sklearn.cluster import KMeans\n",
    "import nltk\n",
    "from nltk.corpus import stopwords\n",
    "nltk.download('punkt')\n",
    "nltk.download('stopwords')\n",
    "from nltk.tokenize import word_tokenize\n",
    "data = pd.read_csv('components.csv')\n",
    "data.tail()\n",
    "req_list_answer_text=[\"\"]*len(req_list)\n",
    "i=0\n",
    "global most_similar\n",
    "global most_similar_score\n",
    "\n",
    "\n",
    "for req in req_list:\n",
    "    most_similar_score=0\n",
    "    for index, row in data.iterrows():\n",
    "#         component_current=component_langauge.iloc[index]\n",
    "        functionality=row['Functionality'].lower()\n",
    "        text_tokens = word_tokenize(functionality)\n",
    "        tokens_without_sw = [word for word in text_tokens if not word in stopwords.words()]\n",
    "        input_tokens = word_tokenize(req_list[i])\n",
    "        input_tokens_without_stopwords = [word for word in input_tokens if not word in stopwords.words()]\n",
    "        while ',' in input_tokens_without_stopwords:\n",
    "            input_tokens_without_stopwords.remove(',')\n",
    "\n",
    "        match_count=0\n",
    "        for token in input_tokens_without_stopwords:\n",
    "            if token in functionality:\n",
    "                match_count+=1\n",
    "            score=match_count/len(tokens_without_sw)\n",
    "\n",
    "\n",
    "        if score>most_similar_score:\n",
    "            most_similar_score=score\n",
    "            most_similar=row\n",
    "    req_list_answer_text[i]=most_similar\n",
    "    i+=1\n",
    "    \n",
    "\n"
   ]
  },
  {
   "cell_type": "code",
   "execution_count": 12,
   "metadata": {},
   "outputs": [
    {
     "name": "stdout",
     "output_type": "stream",
     "text": [
      "    1. login page is displayed with username ,password and register option\n",
      "LoginScreen\n",
      "    2. if user enter register option then registration page is opened with details like name,email, username, password and confirm password\n",
      "LoginScreen\n",
      "    3. user selects product category from dropdown\n",
      "ProductCategory\n",
      "    4. user enter name of the product to search in search box\n",
      "SearchProductUI\n",
      "    5. list of products are fetched using the search name and product type\n",
      "SearchProduct\n",
      "    6. list of products are displayed using the search results and user selects a product from the list\n",
      "ProductList\n",
      "    7. user selects number of items from the dropdown\n",
      "NumberOfItems\n",
      "    8. fare is calculated using discount, product price and quantity\n",
      "ProductFareCalculator\n",
      "    9. gst is calculated on the amount\n",
      "GSTCalculator\n",
      "    10. payment page is displayed with options like credit card, debit card , netbanking, upi and cash\n",
      "PaymentPageUI\n",
      "    11. on successful payment logout button shown\n",
      "Logout\n",
      "\n",
      "Logout\n"
     ]
    }
   ],
   "source": [
    "for i in range(len(req_list)):\n",
    "    print(req_list[i])\n",
    "    print(req_list_answer_text[i]['ComponentName'])\n",
    "    "
   ]
  },
  {
   "cell_type": "code",
   "execution_count": null,
   "metadata": {},
   "outputs": [],
   "source": []
  }
 ],
 "metadata": {
  "kernelspec": {
   "display_name": "Python 3",
   "language": "python",
   "name": "python3"
  },
  "language_info": {
   "codemirror_mode": {
    "name": "ipython",
    "version": 3
   },
   "file_extension": ".py",
   "mimetype": "text/x-python",
   "name": "python",
   "nbconvert_exporter": "python",
   "pygments_lexer": "ipython3",
   "version": "3.8.10"
  }
 },
 "nbformat": 4,
 "nbformat_minor": 4
}
